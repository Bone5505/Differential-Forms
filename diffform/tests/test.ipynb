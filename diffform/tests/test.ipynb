{
 "cells": [
  {
   "cell_type": "code",
   "execution_count": 431,
   "metadata": {},
   "outputs": [
    {
     "name": "stdout",
     "output_type": "stream",
     "text": [
      "\n",
      "Self-Dual Connection\n"
     ]
    },
    {
     "data": {
      "text/latex": [
       "$(\\frac{i \\partial_{r} f}{g})d\\left(t\\right)+(\\cos{\\left(\\theta \\right)})d\\left(\\phi\\right)$"
      ],
      "text/plain": [
       "<core.DifferentialFormMul at 0x7fe236f7df40>"
      ]
     },
     "metadata": {},
     "output_type": "display_data"
    },
    {
     "data": {
      "text/latex": [
       "$(- \\frac{\\sin{\\left(\\theta \\right)}}{g})d\\left(\\phi\\right)$"
      ],
      "text/plain": [
       "<core.DifferentialFormMul at 0x7fe2370b5f10>"
      ]
     },
     "metadata": {},
     "output_type": "display_data"
    },
    {
     "data": {
      "text/latex": [
       "$(\\frac{1}{g})d\\left(\\theta\\right)$"
      ],
      "text/plain": [
       "<core.DifferentialFormMul at 0x7fe23703e570>"
      ]
     },
     "metadata": {},
     "output_type": "display_data"
    },
    {
     "name": "stdout",
     "output_type": "stream",
     "text": [
      "\n",
      "Self-Dual Weyl\n"
     ]
    },
    {
     "data": {
      "text/latex": [
       "$\\displaystyle \\left[\\begin{matrix}- \\frac{r^{2} \\left(g{\\left(r \\right)} \\frac{d^{2}}{d r^{2}} f{\\left(r \\right)} - \\frac{d}{d r} f{\\left(r \\right)} \\frac{d}{d r} g{\\left(r \\right)}\\right) - \\left(g^{2}{\\left(r \\right)} - 1\\right) f{\\left(r \\right)} g{\\left(r \\right)}}{2 r^{2} f{\\left(r \\right)} g^{3}{\\left(r \\right)}} & 0 & 0\\\\0 & \\frac{f{\\left(r \\right)} \\frac{d}{d r} g{\\left(r \\right)} - g{\\left(r \\right)} \\frac{d}{d r} f{\\left(r \\right)}}{2 r f{\\left(r \\right)} g^{3}{\\left(r \\right)}} & 0\\\\0 & 0 & \\frac{f{\\left(r \\right)} \\frac{d}{d r} g{\\left(r \\right)} - g{\\left(r \\right)} \\frac{d}{d r} f{\\left(r \\right)}}{2 r f{\\left(r \\right)} g^{3}{\\left(r \\right)}}\\end{matrix}\\right]$"
      ],
      "text/plain": [
       "Matrix([\n",
       "[-(r**2*(g(r)*Derivative(f(r), (r, 2)) - Derivative(f(r), r)*Derivative(g(r), r)) - (g(r)**2 - 1)*f(r)*g(r))/(2*r**2*f(r)*g(r)**3),                                                                        0,                                                                        0],\n",
       "[                                                                                                                                0, (f(r)*Derivative(g(r), r) - g(r)*Derivative(f(r), r))/(2*r*f(r)*g(r)**3),                                                                        0],\n",
       "[                                                                                                                                0,                                                                        0, (f(r)*Derivative(g(r), r) - g(r)*Derivative(f(r), r))/(2*r*f(r)*g(r)**3)]])"
      ]
     },
     "metadata": {},
     "output_type": "display_data"
    },
    {
     "name": "stdout",
     "output_type": "stream",
     "text": [
      "Self-Dual Ricci\n"
     ]
    },
    {
     "data": {
      "text/latex": [
       "$\\displaystyle \\left[\\begin{matrix}- \\frac{r^{2} \\left(g{\\left(r \\right)} \\frac{d^{2}}{d r^{2}} f{\\left(r \\right)} - \\frac{d}{d r} f{\\left(r \\right)} \\frac{d}{d r} g{\\left(r \\right)}\\right) + \\left(g^{2}{\\left(r \\right)} - 1\\right) f{\\left(r \\right)} g{\\left(r \\right)}}{2 r^{2} f{\\left(r \\right)} g^{3}{\\left(r \\right)}} & 0 & 0\\\\0 & - \\frac{f{\\left(r \\right)} \\frac{d}{d r} g{\\left(r \\right)} + g{\\left(r \\right)} \\frac{d}{d r} f{\\left(r \\right)}}{2 r f{\\left(r \\right)} g^{3}{\\left(r \\right)}} & 0\\\\0 & 0 & - \\frac{f{\\left(r \\right)} \\frac{d}{d r} g{\\left(r \\right)} + g{\\left(r \\right)} \\frac{d}{d r} f{\\left(r \\right)}}{2 r f{\\left(r \\right)} g^{3}{\\left(r \\right)}}\\end{matrix}\\right]$"
      ],
      "text/plain": [
       "Matrix([\n",
       "[-(r**2*(g(r)*Derivative(f(r), (r, 2)) - Derivative(f(r), r)*Derivative(g(r), r)) + (g(r)**2 - 1)*f(r)*g(r))/(2*r**2*f(r)*g(r)**3),                                                                         0,                                                                         0],\n",
       "[                                                                                                                                0, -(f(r)*Derivative(g(r), r) + g(r)*Derivative(f(r), r))/(2*r*f(r)*g(r)**3),                                                                         0],\n",
       "[                                                                                                                                0,                                                                         0, -(f(r)*Derivative(g(r), r) + g(r)*Derivative(f(r), r))/(2*r*f(r)*g(r)**3)]])"
      ]
     },
     "metadata": {},
     "output_type": "display_data"
    }
   ],
   "source": [
    "import sys\n",
    "import os\n",
    "\n",
    "try:\n",
    "    from diffform import *\n",
    "except ImportError as e:\n",
    "    sys.path.append(os.getcwd()+'/..')\n",
    "    from core import *\n",
    "\n",
    "\n",
    "from sympy import symbols, sin, Function, I, Array, permutedims, Eq, solve, cos, simplify, sqrt\n",
    "\n",
    "set_max_degree(4)\n",
    "\n",
    "coords = t,r,theta,phi = symbols(r\"t r \\theta \\phi\")\n",
    "basis = dt,dr,dtheta,dphi = d(t), d(r), d(theta), d(phi)\n",
    "\n",
    "# f = sqrt(1-1/r)\n",
    "f = Function(\"f\")(r)\n",
    "\n",
    "# g = 1/f\n",
    "g = Function(\"g\")(r)\n",
    "\n",
    "e0 = f*dt\n",
    "e1 = g*dr\n",
    "e2 = r*dtheta\n",
    "e3 = r*sin(theta)*dphi\n",
    "\n",
    "S1 = I*e0*e1 - e2*e3\n",
    "S2 = I*e0*e2 - e3*e1\n",
    "S3 = I*e0*e3 - e1*e2\n",
    "\n",
    "AS1 = I*e0*e1 + e2*e3\n",
    "AS2 = I*e0*e2 + e3*e1\n",
    "AS3 = I*e0*e3 + e1*e2\n",
    "\n",
    "A_symbols = permutedims(Array([symbols(f\"A^{{1:4}}_{{{str(c)}}}\") for c in coords]),(1,0))\n",
    "\n",
    "A1 = sum([A_symbols[0,i]*basis[i] for i in range(4)])\n",
    "A2 = sum([A_symbols[1,i]*basis[i] for i in range(4)])\n",
    "A3 = sum([A_symbols[2,i]*basis[i] for i in range(4)])\n",
    "\n",
    "# A1 = I*f.diff(r)/g*dt + cos(theta)*dphi \n",
    "# A2 = -1/g * sin(theta) * dphi\n",
    "# A3 = 1/g * dtheta\n",
    "\n",
    "dAS1 = S1.d + A2*S3 - A3*S2\n",
    "dAS2 = S2.d + A3*S1 - A1*S3\n",
    "dAS3 = S3.d + A1*S2 - A2*S1\n",
    "\n",
    "dA_equations = dAS1.factors + dAS2.factors + dAS3.factors\n",
    "\n",
    "A_sol = solve(dA_equations)[-1]\n",
    "\n",
    "A1 = A1.subs(A_sol)\n",
    "A2 = A2.subs(A_sol)\n",
    "A3 = A3.subs(A_sol)\n",
    "\n",
    "print(\"\")\n",
    "print(\"Self-Dual Connection\")\n",
    "display(A1)\n",
    "display(A2)\n",
    "display(A3)\n",
    "\n",
    "F1 = A1.d + A2*A3\n",
    "F2 = A2.d + A3*A1\n",
    "F3 = A3.d + A1*A2\n",
    "\n",
    "FS  = [F1,F2,F3]\n",
    "S  = [S1,S2,S3]\n",
    "AS = [AS1,AS2,AS3]\n",
    "\n",
    "Ricci = Matrix([[0 if len((FS[i]*AS[j]).factors) == 0 else simplify((FS[i]*AS[j]).factors[0]/(AS[0]*AS[0]).factors[0]) for j in range(3)] for i in range(3)])\n",
    "Weyl  = Matrix([[0 if len((FS[i]*S[j]).factors) == 0 else simplify((FS[i]*S[j]).factors[0]/(S[0]*S[0]).factors[0]) for j in range(3)] for i in range(3)])\n",
    "\n",
    "print(\"\")\n",
    "print(\"Self-Dual Weyl\")\n",
    "display(Weyl)\n",
    "print(\"Self-Dual Ricci\")\n",
    "display(Ricci)"
   ]
  },
  {
   "cell_type": "code",
   "execution_count": 428,
   "metadata": {},
   "outputs": [
    {
     "data": {
      "text/latex": [
       "$(\\frac{e^{- \\frac{u}{2}} \\partial_{z} u}{4 w} - \\frac{1}{w z} - \\frac{\\partial_{z} w}{2 w^{2}} + \\frac{e^{- \\frac{u}{2}} \\partial_{z} w}{2 w^{2}})\\alpha+(- \\frac{\\partial_{y} u}{2})d\\left(x\\right)+(\\frac{\\partial_{x} u}{2})d\\left(y\\right)$"
      ],
      "text/plain": [
       "<core.DifferentialFormMul at 0x7fe23733a930>"
      ]
     },
     "metadata": {},
     "output_type": "display_data"
    },
    {
     "data": {
      "text/latex": [
       "$(\\frac{\\frac{w z \\left(1 - 2 e^{\\frac{u}{2}}\\right) \\partial_{z} u}{4} + w e^{\\frac{u}{2}} + \\frac{z \\left(1 - e^{\\frac{u}{2}}\\right) \\partial_{z} w}{2}}{w z})d\\left(y\\right)$"
      ],
      "text/plain": [
       "<core.DifferentialFormMul at 0x7fe22b456030>"
      ]
     },
     "metadata": {},
     "output_type": "display_data"
    },
    {
     "data": {
      "text/latex": [
       "$(\\frac{\\frac{w z \\left(2 e^{\\frac{u}{2}} - 1\\right) \\partial_{z} u}{4} - w e^{\\frac{u}{2}} - \\frac{z \\left(1 - e^{\\frac{u}{2}}\\right) \\partial_{z} w}{2}}{w z})d\\left(x\\right)$"
      ],
      "text/plain": [
       "<core.DifferentialFormMul at 0x7fe22ba65010>"
      ]
     },
     "metadata": {},
     "output_type": "display_data"
    }
   ],
   "source": [
    "import sys\n",
    "import os\n",
    "\n",
    "try:\n",
    "    from diffform import *\n",
    "except ImportError as e:\n",
    "    sys.path.append(os.getcwd()+'/..')\n",
    "    from core import *\n",
    "\n",
    "from sympy import symbols, Function, I, Array, solve, simplify, sqrt\n",
    "\n",
    "set_max_degree(4)\n",
    "\n",
    "coords = a,x,y,z = symbols(r\"\\alpha x y z\")\n",
    "basis = alpha,dx,dy,dz = DifferentialForm(a,1),d(x),d(y),d(z)\n",
    "\n",
    "w = Function(\"w\")(x,y,z)\n",
    "u = Function(\"u\")(x,y,z)\n",
    "\n",
    "dalpha_sub = {d(alpha): w.diff(x)*dy*dz + w.diff(y)*dz*dx + (exp(u/2)*w).diff(z)*dx*dy}\n",
    "\n",
    "# n = symbols(\"n\",integer=True)\n",
    "\n",
    "e0 = 1/(z*sqrt(w))*alpha\n",
    "e1 = sqrt(w)/z*dz\n",
    "e2 = 1/z*exp(u/2)*sqrt(w)*dx\n",
    "e3 = 1/z*exp(u/2)*sqrt(w)*dy\n",
    "\n",
    "S1 = e0*e1-e2*e3\n",
    "S2 = e0*e2-e3*e1\n",
    "S3 = e0*e3-e1*e2\n",
    "\n",
    "AS1 = e0*e1+e2*e3\n",
    "AS2 = e0*e2+e3*e1\n",
    "AS3 = e0*e3+e1*e2\n",
    "\n",
    "A_symbols = symbols(r\"A^{1:4}_{0:4}\")\n",
    "\n",
    "A1 = sum([A_symbols[(1-1)*4+I]*basis[I] for I in range(4)])\n",
    "A2 = sum([A_symbols[(2-1)*4+I]*basis[I] for I in range(4)])\n",
    "A3 = sum([A_symbols[(3-1)*4+I]*basis[I] for I in range(4)])\n",
    "\n",
    "A_eqns = simplify(S1.d.subs(dalpha_sub) + A2*S3-A3*S2).factors + simplify(S2.d.subs(dalpha_sub) + A3*S1-A1*S3).factors + simplify(S3.d.subs(dalpha_sub) + A1*S2-A2*S1).factors\n",
    "\n",
    "A_sol = solve(A_eqns,A_symbols)\n",
    "\n",
    "A1 = simplify(A1.subs(A_sol))\n",
    "A2 = simplify(A2.subs(A_sol))\n",
    "A3 = simplify(A3.subs(A_sol))\n",
    "\n",
    "display(A1)\n",
    "display(A2)\n",
    "display(A3)\n"
   ]
  },
  {
   "cell_type": "code",
   "execution_count": 432,
   "metadata": {},
   "outputs": [],
   "source": [
    "# Double Complex Structure Example\n",
    "\n",
    "import sys\n",
    "import os\n",
    "\n",
    "try:\n",
    "    from diffform import *\n",
    "except ImportError as e:\n",
    "    sys.path.append(os.getcwd()+'/..')\n",
    "    from core import *\n",
    "\n",
    "from sympy import symbols, exp, simplify, solve, sqrt, Matrix\n",
    "\n",
    "set_max_degree(4)\n",
    "\n",
    "x,y = symbols(r\"x y\")\n",
    "betas = b0,b1,b2,b3 = [DifferentialForm(symbols(rf\"\\beta_{{{i}}}\"),1) for i in range(4)]\n",
    "tbetas = tb0,tb1,tb2,tb3 = [DifferentialForm(symbols(rf\"\\hat{{\\beta}}_{{{i}}}\"),1) for i in range(4)]\n",
    "\n",
    "b1.exact = True\n",
    "b2.exact = True\n",
    "\n",
    "dbeta_subs = {d(x): b1, d(y): b2, d(b0): (1/(x-y))*(b0-b3)*b2, d(b3): (1/(x-y))*(b0-b3)*b1}\n",
    "\n",
    "F,A = [Function(c)(x) for c in \"FA\"]\n",
    "G,B = [Function(c)(y) for c in \"GB\"]\n",
    "\n",
    "H = Function(\"H\")(x,y)\n",
    "\n",
    "e0 = 1/H*F/A/sqrt(x-y) * b0\n",
    "e1 = 1/H/(F*A)*sqrt(x-y) * b1\n",
    "e2 = 1/H/(G*B)*sqrt(x-y) * b2\n",
    "e3 = 1/H*G/B/sqrt(x-y) * b3\n",
    "\n",
    "S1 = e0*e1 - e2*e3\n",
    "S2 = e0*e2 - e3*e1\n",
    "S3 = e0*e3 - e1*e2\n",
    "\n",
    "S = [S1,S2,S3]\n",
    "\n",
    "AS1 = e0*e1 + e2*e3\n",
    "AS2 = e0*e2 + e3*e1\n",
    "AS3 = e0*e3 + e1*e2\n",
    "\n",
    "AS = [AS1,AS2,AS3]\n",
    "\n",
    "A_symbols = symbols(r\"A^{1:4}_{0:4}\")\n",
    "\n",
    "A1 = sum([A_symbols[(1-1)*4+I]*betas[I] for I in range(4)])\n",
    "A2 = sum([A_symbols[(2-1)*4+I]*betas[I] for I in range(4)])\n",
    "A3 = sum([A_symbols[(3-1)*4+I]*betas[I] for I in range(4)])\n",
    "\n",
    "A_eqns = simplify(S1.d.subs(dbeta_subs) + A2*S3-A3*S2).factors + simplify(S2.d.subs(dbeta_subs) + A3*S1-A1*S3).factors + simplify(S3.d.subs(dbeta_subs) + A1*S2-A2*S1).factors\n",
    "\n",
    "A_sol = solve(A_eqns,A_symbols)\n",
    "\n",
    "A1 = simplify(A1.subs(A_sol))\n",
    "A2 = simplify(A2.subs(A_sol))\n",
    "A3 = simplify(A3.subs(A_sol))\n",
    "\n",
    "apply_J = { b0: ((x-y)/F**2)*tb1, b1: -(F**2/(x-y))*tb0, b2: -(G**2/(x-y))*tb3, b3: ((x-y)/G**2)*tb2, tb0:b0,tb1:b1,tb2:b2,tb3:b3 }\n",
    "\n",
    "\n",
    "Hx_cond = {H.diff(x): B**2*H/(2*A**2*(x-y))}\n",
    "\n",
    "\n",
    "F1 = simplify((A1.d + A2*A3).subs(dbeta_subs))\n",
    "F2 = simplify((A2.d + A3*A1).subs(dbeta_subs))\n",
    "F3 = simplify((A3.d + A1*A2).subs(dbeta_subs))\n",
    "\n",
    "FS = [F1,F2,F3]\n",
    "\n",
    "Ricci = Matrix([[0 if len((FS[i]*AS[j]).factors) == 0 else simplify((FS[i]*AS[j]).factors[0]/(AS[0]*AS[0]).factors[0]) for j in range(3)] for i in range(3)])\n",
    "Weyl  = Matrix([[0 if len((FS[i]*S[j]).factors) == 0 else simplify((FS[i]*S[j]).factors[0]/(S[0]*S[0]).factors[0]) for j in range(3)] for i in range(3)])\n"
   ]
  },
  {
   "cell_type": "code",
   "execution_count": 372,
   "metadata": {},
   "outputs": [
    {
     "data": {
      "text/latex": [
       "$\\displaystyle 2 x \\frac{d^{2}}{d yd x} H - 2 y \\frac{d^{2}}{d yd x} H + \\frac{d}{d x} H - \\frac{d}{d y} H$"
      ],
      "text/plain": [
       "<IPython.core.display.Math object>"
      ]
     },
     "metadata": {},
     "output_type": "display_data"
    },
    {
     "data": {
      "text/latex": [
       "$\\displaystyle - A^{4} \\frac{d}{d x} H + A^{3} H \\frac{d}{d x} A + B^{4} \\frac{d}{d y} H - B^{3} H \\frac{d}{d y} B$"
      ],
      "text/plain": [
       "<IPython.core.display.Math object>"
      ]
     },
     "metadata": {},
     "output_type": "display_data"
    }
   ],
   "source": [
    "from sympy import expand, ln\n",
    "\n",
    "R12 = Ricci[0,1]*2*(x**2-2*x*y+y**2)*A*B/(F*G*H)\n",
    "# display_no_arg(R12)\n",
    "\n",
    "R21 = Ricci[1,0]*2*A*B*(x**2-2*x*y+y**2)/(F*G*H)\n",
    "\n",
    "\n",
    "R1p = simplify((R12+R21)/(2*A**2*B**2))\n",
    "display_no_arg(R1p)\n",
    "\n",
    "R1m = simplify(R12-R21)/2\n",
    "\n",
    "display_no_arg(R1m)"
   ]
  },
  {
   "cell_type": "code",
   "execution_count": 344,
   "metadata": {},
   "outputs": [],
   "source": [
    "t = x+y\n",
    "r = x-y\n",
    "\n",
    "c0,c1,c2,c3,c4,c5 = symbols(r\"c0:6\")\n",
    "r0,r1,r2 = symbols(r\"r0:3\", real=True,positive=True)\n",
    "\n",
    "# Plebanski Demianski Solution\n",
    "c0 = 0\n",
    "c1 = 0\n",
    "c3 = 0\n",
    "c5 = 0\n",
    "r2 = 0\n",
    "r0 = 0\n",
    "\n",
    "# # Other Solution?\n",
    "# c0 = 0\n",
    "# c3 = 0\n",
    "# c2 = 0\n",
    "# c1 = -4*c3*r1/r2\n",
    "# r0 = (c5/2)*r1-(c5/2)**2*r2\n",
    "\n",
    "H0 = simplify(c0*r**2*ln(r) + (c0*t**2+c3*r**2) + c1*t + c2 + c4/2*sqrt((t+c5)**2-r**2))\n",
    "A0 = sqrt(sqrt(r0 + r1*x + r2*x**2))\n",
    "B0 = sqrt(sqrt(r0 + r1*y + r2*y**2))\n",
    "\n",
    "H_cond = simplify(expand(simplify(R1m.subs(A,A0).subs(B,B0).subs(H,H0))))*sqrt(c5**2+2*c5*x+2*c5*y + 4*x*y)*4"
   ]
  },
  {
   "cell_type": "code",
   "execution_count": 440,
   "metadata": {},
   "outputs": [
    {
     "data": {
      "text/latex": [
       "$\\displaystyle \\frac{- 27 A^{6} G^{2} H^{2} - 29 A^{4} B^{2} F^{2} H^{2} + 36 A^{4} B^{2} F^{2} H x^{2} \\frac{d^{2}}{d x^{2}} H - 72 A^{4} B^{2} F^{2} H x y \\frac{d^{2}}{d x^{2}} H - 64 A^{4} B^{2} F^{2} H x \\frac{d}{d x} H + 36 A^{4} B^{2} F^{2} H y^{2} \\frac{d^{2}}{d x^{2}} H + 64 A^{4} B^{2} F^{2} H y \\frac{d}{d x} H - 8 A^{4} B^{2} F^{2} x^{2} \\left(\\frac{d}{d x} H\\right)^{2} + 16 A^{4} B^{2} F^{2} x y \\left(\\frac{d}{d x} H\\right)^{2} - 8 A^{4} B^{2} F^{2} y^{2} \\left(\\frac{d}{d x} H\\right)^{2} - 36 A^{4} B^{2} F H^{2} x^{2} \\frac{d^{2}}{d x^{2}} F + 72 A^{4} B^{2} F H^{2} x y \\frac{d^{2}}{d x^{2}} F + 72 A^{4} B^{2} F H^{2} x \\frac{d}{d x} F - 36 A^{4} B^{2} F H^{2} y^{2} \\frac{d^{2}}{d x^{2}} F - 72 A^{4} B^{2} F H^{2} y \\frac{d}{d x} F + 72 A^{4} B^{2} F H x^{2} \\frac{d}{d x} F \\frac{d}{d x} H - 144 A^{4} B^{2} F H x y \\frac{d}{d x} F \\frac{d}{d x} H + 72 A^{4} B^{2} F H y^{2} \\frac{d}{d x} F \\frac{d}{d x} H + 8 A^{4} B^{2} G^{2} H^{2} + 8 A^{4} B^{2} G H^{2} x \\frac{d}{d y} G - 8 A^{4} B^{2} G H^{2} y \\frac{d}{d y} G - 36 A^{4} B^{2} H^{2} x^{2} \\left(\\frac{d}{d x} F\\right)^{2} + 72 A^{4} B^{2} H^{2} x y \\left(\\frac{d}{d x} F\\right)^{2} - 36 A^{4} B^{2} H^{2} y^{2} \\left(\\frac{d}{d x} F\\right)^{2} - 8 A^{4} B G^{2} H^{2} x \\frac{d}{d y} B + 8 A^{4} B G^{2} H^{2} y \\frac{d}{d y} B + 36 A^{3} B^{2} F^{2} H^{2} x^{2} \\frac{d^{2}}{d x^{2}} A - 72 A^{3} B^{2} F^{2} H^{2} x y \\frac{d^{2}}{d x^{2}} A - 36 A^{3} B^{2} F^{2} H^{2} x \\frac{d}{d x} A + 36 A^{3} B^{2} F^{2} H^{2} y^{2} \\frac{d^{2}}{d x^{2}} A + 36 A^{3} B^{2} F^{2} H^{2} y \\frac{d}{d x} A + 72 A^{3} B^{2} F H^{2} x^{2} \\frac{d}{d x} A \\frac{d}{d x} F - 144 A^{3} B^{2} F H^{2} x y \\frac{d}{d x} A \\frac{d}{d x} F + 72 A^{3} B^{2} F H^{2} y^{2} \\frac{d}{d x} A \\frac{d}{d x} F + 8 A^{2} B^{4} F^{2} H^{2} - 8 A^{2} B^{4} F H^{2} x \\frac{d}{d x} F + 8 A^{2} B^{4} F H^{2} y \\frac{d}{d x} F + 19 A^{2} B^{4} G^{2} H^{2} - 28 A^{2} B^{4} G^{2} H x^{2} \\frac{d^{2}}{d y^{2}} H + 56 A^{2} B^{4} G^{2} H x y \\frac{d^{2}}{d y^{2}} H - 64 A^{2} B^{4} G^{2} H x \\frac{d}{d y} H - 28 A^{2} B^{4} G^{2} H y^{2} \\frac{d^{2}}{d y^{2}} H + 64 A^{2} B^{4} G^{2} H y \\frac{d}{d y} H - 8 A^{2} B^{4} G^{2} x^{2} \\left(\\frac{d}{d y} H\\right)^{2} + 16 A^{2} B^{4} G^{2} x y \\left(\\frac{d}{d y} H\\right)^{2} - 8 A^{2} B^{4} G^{2} y^{2} \\left(\\frac{d}{d y} H\\right)^{2} + 28 A^{2} B^{4} G H^{2} x^{2} \\frac{d^{2}}{d y^{2}} G - 56 A^{2} B^{4} G H^{2} x y \\frac{d^{2}}{d y^{2}} G + 56 A^{2} B^{4} G H^{2} x \\frac{d}{d y} G + 28 A^{2} B^{4} G H^{2} y^{2} \\frac{d^{2}}{d y^{2}} G - 56 A^{2} B^{4} G H^{2} y \\frac{d}{d y} G - 56 A^{2} B^{4} G H x^{2} \\frac{d}{d y} G \\frac{d}{d y} H + 112 A^{2} B^{4} G H x y \\frac{d}{d y} G \\frac{d}{d y} H - 56 A^{2} B^{4} G H y^{2} \\frac{d}{d y} G \\frac{d}{d y} H + 28 A^{2} B^{4} H^{2} x^{2} \\left(\\frac{d}{d y} G\\right)^{2} - 56 A^{2} B^{4} H^{2} x y \\left(\\frac{d}{d y} G\\right)^{2} + 28 A^{2} B^{4} H^{2} y^{2} \\left(\\frac{d}{d y} G\\right)^{2} - 28 A^{2} B^{3} G^{2} H^{2} x^{2} \\frac{d^{2}}{d y^{2}} B + 56 A^{2} B^{3} G^{2} H^{2} x y \\frac{d^{2}}{d y^{2}} B - 28 A^{2} B^{3} G^{2} H^{2} x \\frac{d}{d y} B - 28 A^{2} B^{3} G^{2} H^{2} y^{2} \\frac{d^{2}}{d y^{2}} B + 28 A^{2} B^{3} G^{2} H^{2} y \\frac{d}{d y} B - 56 A^{2} B^{3} G H^{2} x^{2} \\frac{d}{d y} B \\frac{d}{d y} G + 112 A^{2} B^{3} G H^{2} x y \\frac{d}{d y} B \\frac{d}{d y} G - 56 A^{2} B^{3} G H^{2} y^{2} \\frac{d}{d y} B \\frac{d}{d y} G - 36 A^{2} B^{2} F^{2} H^{2} x^{2} \\left(\\frac{d}{d x} A\\right)^{2} + 72 A^{2} B^{2} F^{2} H^{2} x y \\left(\\frac{d}{d x} A\\right)^{2} - 36 A^{2} B^{2} F^{2} H^{2} y^{2} \\left(\\frac{d}{d x} A\\right)^{2} + 28 A^{2} B^{2} G^{2} H^{2} x^{2} \\left(\\frac{d}{d y} B\\right)^{2} - 56 A^{2} B^{2} G^{2} H^{2} x y \\left(\\frac{d}{d y} B\\right)^{2} + 28 A^{2} B^{2} G^{2} H^{2} y^{2} \\left(\\frac{d}{d y} B\\right)^{2} + 8 A B^{4} F^{2} H^{2} x \\frac{d}{d x} A - 8 A B^{4} F^{2} H^{2} y \\frac{d}{d x} A + 21 B^{6} F^{2} H^{2}}{8 A^{2} B^{2} \\left(x^{3} - 3 x^{2} y + 3 x y^{2} - y^{3}\\right)}$"
      ],
      "text/plain": [
       "<IPython.core.display.Math object>"
      ]
     },
     "metadata": {},
     "output_type": "display_data"
    }
   ],
   "source": [
    "W11 = (simplify(Weyl[0,0]))\n",
    "R11 = (simplify(Ricci[0,0]*8))\n",
    "\n",
    "display_no_arg(simplify(W11+R11))"
   ]
  },
  {
   "cell_type": "code",
   "execution_count": 25,
   "metadata": {},
   "outputs": [
    {
     "data": {
      "text/latex": [
       "$(\\frac{F \\partial_{x} u}{x - y})\\beta_{0}+(\\frac{G \\partial_{y} u}{x - y})\\beta_{3}$"
      ],
      "text/plain": [
       "<core.DifferentialFormMul at 0x7fcf65cf1100>"
      ]
     },
     "metadata": {},
     "output_type": "display_data"
    },
    {
     "data": {
      "text/latex": [
       "$(\\frac{\\left(- c_{0} - x c_{1}\\right) e^{u}}{x - y})\\beta_{0}+(\\frac{\\left(c_{0} + y c_{1}\\right) e^{u}}{x - y})\\beta_{3}$"
      ],
      "text/plain": [
       "<core.DifferentialFormMul at 0x7fcf65ce22d0>"
      ]
     },
     "metadata": {},
     "output_type": "display_data"
    },
    {
     "data": {
      "text/latex": [
       "$(\\frac{\\left(c_{0} + x c_{1}\\right) e^{u}}{F})\\beta_{1}+(\\frac{\\left(- c_{0} - y c_{1}\\right) e^{u}}{G})\\beta_{2}$"
      ],
      "text/plain": [
       "<core.DifferentialFormMul at 0x7fcf65cf2c30>"
      ]
     },
     "metadata": {},
     "output_type": "display_data"
    }
   ],
   "source": [
    "# Pure Connection Equations\n",
    "import sys\n",
    "import os\n",
    "\n",
    "try:\n",
    "    from diffform import *\n",
    "except ImportError as err:\n",
    "    sys.path.append(os.getcwd()+'/..')\n",
    "    from core import *\n",
    "\n",
    "from sympy import symbols, Function, simplify, expand, factor, I, solve, exp, Matrix\n",
    "\n",
    "set_max_degree(4)\n",
    "\n",
    "x,y = symbols(r\"x y\",real=True,positive=True)\n",
    "betas  = b0,b1,b2,b3     = [DifferentialForm(symbols(rf\"\\beta_{{{I}}}\"),1) for I in range(4)]\n",
    "tbetas = tb0,tb1,tb2,tb3 = [DifferentialForm(symbols(rf\"\\hat{{\\beta}}_{{{I}}}\"),1) for I in range(4)]\n",
    "\n",
    "b1.exact = True\n",
    "b2.exact = True\n",
    "\n",
    "F = Function(\"F\")(x)\n",
    "G = Function(\"G\")(y)\n",
    "\n",
    "dbeta_sub = {d(x): b1, d(y): b2, d(b0): (1/(x-y))*(b0-b3)*b2, d(b3): (1/(x-y))*(b0-b3)*b1}\n",
    "\n",
    "Jm_subs = {b0: (x-y)/F * tb1, b1: -F/(x-y)*tb0, b2: -G/(x-y) * tb3, b3: (x-y)/G * tb2, tb0: b0, tb1: b1, tb2: b2, tb3: b3}\n",
    "\n",
    "a,b,c,e = [Function(c)(x,y) for c in \"abce\"]\n",
    "\n",
    "u = Function(\"u\")(x,y)\n",
    "\n",
    "h = Function(\"h\")(x,y) # h = Log[f]\n",
    "\n",
    "c0,c1,c2,c3 = constants(r\"c_{0} c_{1} c2 c3\")\n",
    "\n",
    "a = F*u.diff(x)/(x-y)\n",
    "b = G*u.diff(y)/(x-y)\n",
    "c = (c0+c1*x)/(F)*exp(u)\n",
    "e = -(c0+c1*y)/(G)*exp(u)\n",
    "\n",
    "A1 = simplify(a*b0 + b*b3)\n",
    "A3 = simplify(c*b1 + e*b2)\n",
    "A2 = simplify(A3.subs(Jm_subs))\n",
    "\n",
    "F1 = simplify((A1.d + A2*A3).subs(dbeta_sub))\n",
    "F2 = simplify((A2.d + A3*A1).subs(dbeta_sub))\n",
    "F3 = simplify((A3.d + A1*A2).subs(dbeta_sub))\n",
    "F2.collect_forms()\n",
    "\n",
    "F1 = F1.subs(u.diff(x,y),(c0+c1*x)*(c0+c1*y)/(F*G)*exp(2*u))\n",
    "\n",
    "# display(simplify(F1.subs(u.diff(x,y),(c0+c1*x)*(c0+c1*y)/(F*G)*exp(2*u))))\n",
    "# display(F2)\n",
    "# display(F3)\n",
    "\n",
    "FS = [F1,F2,F3]\n",
    "\n",
    "FF = Matrix([[0 if (FS[i]*FS[j]).factors == [] else simplify((FS[i]*FS[j]).factors[0]) for j in range(3)] for i in range(3)])\n",
    "\n",
    "pde2 = simplify((2*d(h)*F2 + 3*A3*F1).subs(dbeta_sub))\n",
    "\n",
    "display(A1)\n",
    "display(A2)\n",
    "display(A3)"
   ]
  },
  {
   "cell_type": "code",
   "execution_count": null,
   "metadata": {},
   "outputs": [],
   "source": []
  },
  {
   "cell_type": "code",
   "execution_count": 47,
   "metadata": {},
   "outputs": [],
   "source": [
    "# U(1) Kerr Background Perturbation\n",
    "import sys\n",
    "import os\n",
    "\n",
    "try:\n",
    "    from diffform import *\n",
    "except ImportError as err:\n",
    "    sys.path.append(os.getcwd()+'/..')\n",
    "    from core import *\n",
    "\n",
    "from sympy import symbols, Function, simplify, expand, factor, I, solve, exp, Matrix, sqrt\n",
    "\n",
    "set_max_degree(4)\n",
    "\n",
    "t,r,q,vphi = symbols(r\"\\tau r q \\varphi\",real=True,positive=True)\n",
    "betas  = b0,b1,b2,b3     = [DifferentialForm(symbols(rf\"\\beta_{{{I}}}\"),1) for I in range(4)]\n",
    "tbetas = tb0,tb1,tb2,tb3 = [DifferentialForm(symbols(rf\"\\hat{{\\beta}}_{{{I}}}\"),1) for I in range(4)]\n",
    "\n",
    "b1.exact = True\n",
    "b2.exact = True\n",
    "\n",
    "F = Function(\"F\",real=True,positive=True)(r)\n",
    "G = Function(\"G\",real=True,positive=True)(q)\n",
    "\n",
    "dbeta_sub = {d(b0): 2*q/(r**2-q**2)*(b0-b3)*b2, d(b3): 2*r/(r**2-q**2)*(b0-b3)*b1, d(r): b1, d(q): b2, d(t): (1/(r**2-q**2))*(r**2*b0-q**2*b3), d(vphi): (1/(r**2-q**2))*(b0-b3)}\n",
    "\n",
    "hodge_2forms_sub = {b0*b1: tb2*tb3, b0*b2: -F/G*tb0*tb2, b0*b3: (r**2-q**2)**2/(F*G) *tb1*tb2, b1*b2: F*G/(r**2-q**2)**2*tb0*tb3, b1*b3: -F/G*tb0*tb2, b2*b3: tb0*tb1, \\\n",
    "                    tb0*tb1: b0*b1, tb0*tb2: b0*b2, tb0*tb3: b0*b3, tb1*tb2: b1*b2, tb1*tb3: b1*b3, tb2*tb3: b2*b3}\n",
    "\n",
    "e0 = sqrt(F/(r**2-q**2))*b0\n",
    "e1 = sqrt((r**2-q**2)/F)*b1\n",
    "e2 = sqrt((r**2-q**2)/G)*b2\n",
    "e3 = sqrt(G/(r**2-q**2))*b3\n",
    "\n",
    "es = [e0,e1,e2,e3]\n",
    "\n",
    "S1 = simplify(simplify(e0*e1 - e2*e3).subs(sqrt(r**2-q**2),1/sqrt(1/(r**2-q**2))))\n",
    "S2 = simplify(simplify(e0*e2-e3*e1).subs(sqrt(r**2-q**2),1/sqrt(1/(r**2-q**2))))\n",
    "S3 = simplify(e0*e3-e1*e2)\n",
    "\n",
    "Sp = S2+I*S3\n",
    "Sm = S2-I*S3\n",
    "\n",
    "f0,f1,f2 = [Function(rf\"\\phi_{{{i}}}\")(r,q) for i in range(3)]\n",
    "\n",
    "w,k = constants(r\"\\omega \\kappa\")\n",
    "\n",
    "\n",
    "pde1 = simplify(simplify(d(f0*exp(I*(w*t + k*vphi))*Sm+f1*exp(I*(w*t + k*vphi))*S1+f2*exp(I*(w*t + k*vphi))*Sp).subs(dbeta_sub)))"
   ]
  },
  {
   "cell_type": "code",
   "execution_count": 48,
   "metadata": {},
   "outputs": [
    {
     "data": {
      "text/latex": [
       "$(\\frac{\\left(- F^{\\frac{3}{2}} G \\left(q^{2} - r^{2}\\right) \\left(\\partial_{r} \\phi_{0} + \\partial_{r} \\phi_{2}\\right) - \\frac{\\sqrt{F} G \\left(\\phi_{0} + \\phi_{2}\\right) \\left(q^{2} - r^{2}\\right) \\partial_{r} F}{2} - \\sqrt{F} G \\left(q^{2} - r^{2}\\right) \\left(\\phi_{0} \\kappa - \\phi_{2} \\kappa + r^{2} \\left(\\phi_{0} - \\phi_{2}\\right) \\omega\\right) + 2 F G^{\\frac{3}{2}} \\phi_{1} \\left(q - r\\right) + F G^{\\frac{3}{2}} \\left(q^{2} - r^{2}\\right) \\partial_{q} \\phi_{1}\\right) e^{i \\left(\\varphi \\kappa + \\tau \\omega\\right)}}{F G^{\\frac{3}{2}} \\left(q^{2} - r^{2}\\right)})\\beta_{0} \\wedge \\beta_{1} \\wedge \\beta_{2}+(\\frac{i \\left(\\sqrt{F} \\left(2 \\phi_{0} \\kappa + 2 \\phi_{2} \\kappa + 2 q^{2} \\left(\\phi_{0} + \\phi_{2}\\right) \\omega - \\phi_{0} \\partial_{q} G + \\phi_{2} \\partial_{q} G\\right) + 2 \\sqrt{G} \\left(\\phi_{1} \\kappa + \\phi_{1} r^{2} \\omega - \\sqrt{F} \\sqrt{G} \\partial_{q} \\phi_{0} + \\sqrt{F} \\sqrt{G} \\partial_{q} \\phi_{2}\\right)\\right) e^{i \\left(\\varphi \\kappa + \\tau \\omega\\right)}}{2 \\sqrt{G} \\left(q^{2} - r^{2}\\right)})\\beta_{0} \\wedge \\beta_{2} \\wedge \\beta_{3}+(\\frac{i \\left(2 \\sqrt{F} \\left(\\phi_{1} \\kappa + \\phi_{1} q^{2} \\omega - \\sqrt{F} \\sqrt{G} \\partial_{r} \\phi_{0} + \\sqrt{F} \\sqrt{G} \\partial_{r} \\phi_{2}\\right) + \\sqrt{G} \\left(- 2 \\phi_{0} \\kappa - 2 \\phi_{2} \\kappa - 2 r^{2} \\left(\\phi_{0} + \\phi_{2}\\right) \\omega - \\phi_{0} \\partial_{r} F + \\phi_{2} \\partial_{r} F\\right)\\right) e^{i \\left(\\varphi \\kappa + \\tau \\omega\\right)}}{2 \\sqrt{F} \\left(q^{2} - r^{2}\\right)})\\beta_{0} \\wedge \\beta_{1} \\wedge \\beta_{3}+(\\frac{\\left(- 2 F^{\\frac{3}{2}} G \\phi_{1} \\left(q - r\\right) - F^{\\frac{3}{2}} G \\left(q^{2} - r^{2}\\right) \\partial_{r} \\phi_{1} - F G^{\\frac{3}{2}} \\left(q^{2} - r^{2}\\right) \\left(\\partial_{q} \\phi_{0} + \\partial_{q} \\phi_{2}\\right) - \\frac{F \\sqrt{G} \\left(\\phi_{0} + \\phi_{2}\\right) \\left(q^{2} - r^{2}\\right) \\partial_{q} G}{2} + F \\sqrt{G} \\left(q^{2} - r^{2}\\right) \\left(\\phi_{0} \\kappa - \\phi_{2} \\kappa + q^{2} \\left(\\phi_{0} - \\phi_{2}\\right) \\omega\\right)\\right) e^{i \\left(\\varphi \\kappa + \\tau \\omega\\right)}}{F^{\\frac{3}{2}} G \\left(q^{2} - r^{2}\\right)})\\beta_{1} \\wedge \\beta_{2} \\wedge \\beta_{3}$"
      ],
      "text/plain": [
       "<core.DifferentialFormMul at 0x7f65474674d0>"
      ]
     },
     "execution_count": 48,
     "metadata": {},
     "output_type": "execute_result"
    }
   ],
   "source": [
    "pde1"
   ]
  },
  {
   "cell_type": "code",
   "execution_count": null,
   "metadata": {},
   "outputs": [],
   "source": []
  }
 ],
 "metadata": {
  "kernelspec": {
   "display_name": "Python 3",
   "language": "python",
   "name": "python3"
  },
  "language_info": {
   "codemirror_mode": {
    "name": "ipython",
    "version": 3
   },
   "file_extension": ".py",
   "mimetype": "text/x-python",
   "name": "python",
   "nbconvert_exporter": "python",
   "pygments_lexer": "ipython3",
   "version": "3.12.2"
  }
 },
 "nbformat": 4,
 "nbformat_minor": 2
}
