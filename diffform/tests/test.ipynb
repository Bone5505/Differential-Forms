{
 "cells": [
  {
   "cell_type": "code",
   "execution_count": 10,
   "metadata": {},
   "outputs": [
    {
     "name": "stdout",
     "output_type": "stream",
     "text": [
      "backup import\n"
     ]
    },
    {
     "data": {
      "text/plain": [
       "'Tetrads'"
      ]
     },
     "metadata": {},
     "output_type": "display_data"
    },
    {
     "data": {
      "text/latex": [
       "$(f{\\left(r \\right)})dt$"
      ],
      "text/plain": [
       "<core.DifferentialFormMul at 0x7fc4814129f0>"
      ]
     },
     "metadata": {},
     "output_type": "display_data"
    },
    {
     "data": {
      "text/latex": [
       "$(g{\\left(r \\right)})dr$"
      ],
      "text/plain": [
       "<core.DifferentialFormMul at 0x7fc482063a40>"
      ]
     },
     "metadata": {},
     "output_type": "display_data"
    },
    {
     "data": {
      "text/latex": [
       "$(r)d\\theta$"
      ],
      "text/plain": [
       "<core.DifferentialFormMul at 0x7fc481f38b30>"
      ]
     },
     "metadata": {},
     "output_type": "display_data"
    },
    {
     "data": {
      "text/latex": [
       "$(r \\sin{\\left(\\theta \\right)})d\\phi$"
      ],
      "text/plain": [
       "<core.DifferentialFormMul at 0x7fc480de6630>"
      ]
     },
     "metadata": {},
     "output_type": "display_data"
    },
    {
     "name": "stdout",
     "output_type": "stream",
     "text": [
      "\n"
     ]
    },
    {
     "data": {
      "text/plain": [
       "'Self-Dual 2-forms'"
      ]
     },
     "metadata": {},
     "output_type": "display_data"
    },
    {
     "data": {
      "text/latex": [
       "$(i f{\\left(r \\right)} g{\\left(r \\right)})dt \\wedge dr+(- r^{2} \\sin{\\left(\\theta \\right)})d\\theta \\wedge d\\phi$"
      ],
      "text/plain": [
       "<core.DifferentialFormMul at 0x7fc481038170>"
      ]
     },
     "metadata": {},
     "output_type": "display_data"
    },
    {
     "data": {
      "text/latex": [
       "$(i r f{\\left(r \\right)})dt \\wedge d\\theta+(r g{\\left(r \\right)} \\sin{\\left(\\theta \\right)})dr \\wedge d\\phi$"
      ],
      "text/plain": [
       "<core.DifferentialFormMul at 0x7fc48103bf20>"
      ]
     },
     "metadata": {},
     "output_type": "display_data"
    },
    {
     "data": {
      "text/latex": [
       "$(i r f{\\left(r \\right)} \\sin{\\left(\\theta \\right)})dt \\wedge d\\phi+(- r g{\\left(r \\right)})dr \\wedge d\\theta$"
      ],
      "text/plain": [
       "<core.DifferentialFormMul at 0x7fc482033140>"
      ]
     },
     "metadata": {},
     "output_type": "display_data"
    },
    {
     "name": "stdout",
     "output_type": "stream",
     "text": [
      "\n",
      "Self-Dual Connection\n"
     ]
    },
    {
     "data": {
      "text/latex": [
       "$(\\frac{i \\frac{d}{d r} f{\\left(r \\right)}}{g{\\left(r \\right)}})dt+(\\cos{\\left(\\theta \\right)})d\\phi$"
      ],
      "text/plain": [
       "<core.DifferentialFormMul at 0x7fc46b681400>"
      ]
     },
     "metadata": {},
     "output_type": "display_data"
    },
    {
     "data": {
      "text/latex": [
       "$(- \\frac{\\sin{\\left(\\theta \\right)}}{g{\\left(r \\right)}})d\\phi$"
      ],
      "text/plain": [
       "<core.DifferentialFormMul at 0x7fc46b682ea0>"
      ]
     },
     "metadata": {},
     "output_type": "display_data"
    },
    {
     "data": {
      "text/latex": [
       "$(\\frac{1}{g{\\left(r \\right)}})d\\theta$"
      ],
      "text/plain": [
       "<core.DifferentialFormMul at 0x7fc46b681550>"
      ]
     },
     "metadata": {},
     "output_type": "display_data"
    },
    {
     "name": "stdout",
     "output_type": "stream",
     "text": [
      "\n",
      "Self-Dual Weyl\n"
     ]
    },
    {
     "data": {
      "text/latex": [
       "$\\displaystyle \\left[\\begin{matrix}- \\frac{\\frac{d^{2}}{d r^{2}} f{\\left(r \\right)}}{2 f{\\left(r \\right)} g^{2}{\\left(r \\right)}} + \\frac{\\frac{d}{d r} f{\\left(r \\right)} \\frac{d}{d r} g{\\left(r \\right)}}{2 f{\\left(r \\right)} g^{3}{\\left(r \\right)}} + \\frac{1}{2 r^{2}} - \\frac{1}{2 r^{2} g^{2}{\\left(r \\right)}} & 0 & 0\\\\0 & \\frac{\\frac{d}{d r} g{\\left(r \\right)}}{2 r g^{3}{\\left(r \\right)}} - \\frac{\\frac{d}{d r} f{\\left(r \\right)}}{2 r f{\\left(r \\right)} g^{2}{\\left(r \\right)}} & 0\\\\0 & 0 & \\frac{\\frac{d}{d r} g{\\left(r \\right)}}{2 r g^{3}{\\left(r \\right)}} - \\frac{\\frac{d}{d r} f{\\left(r \\right)}}{2 r f{\\left(r \\right)} g^{2}{\\left(r \\right)}}\\end{matrix}\\right]$"
      ],
      "text/plain": [
       "[[-Derivative(f(r), (r, 2))/(2*f(r)*g(r)**2) + Derivative(f(r), r)*Derivative(g(r), r)/(2*f(r)*g(r)**3) + 1/(2*r**2) - 1/(2*r**2*g(r)**2), 0, 0], [0, Derivative(g(r), r)/(2*r*g(r)**3) - Derivative(f(r), r)/(2*r*f(r)*g(r)**2), 0], [0, 0, Derivative(g(r), r)/(2*r*g(r)**3) - Derivative(f(r), r)/(2*r*f(r)*g(r)**2)]]"
      ]
     },
     "metadata": {},
     "output_type": "display_data"
    },
    {
     "name": "stdout",
     "output_type": "stream",
     "text": [
      "Self-Dual Ricci\n"
     ]
    },
    {
     "data": {
      "text/latex": [
       "$\\displaystyle \\left[\\begin{matrix}- \\frac{\\frac{d^{2}}{d r^{2}} f{\\left(r \\right)}}{2 f{\\left(r \\right)} g^{2}{\\left(r \\right)}} + \\frac{\\frac{d}{d r} f{\\left(r \\right)} \\frac{d}{d r} g{\\left(r \\right)}}{2 f{\\left(r \\right)} g^{3}{\\left(r \\right)}} - \\frac{1}{2 r^{2}} + \\frac{1}{2 r^{2} g^{2}{\\left(r \\right)}} & 0 & 0\\\\0 & - \\frac{\\frac{d}{d r} g{\\left(r \\right)}}{2 r g^{3}{\\left(r \\right)}} - \\frac{\\frac{d}{d r} f{\\left(r \\right)}}{2 r f{\\left(r \\right)} g^{2}{\\left(r \\right)}} & 0\\\\0 & 0 & - \\frac{\\frac{d}{d r} g{\\left(r \\right)}}{2 r g^{3}{\\left(r \\right)}} - \\frac{\\frac{d}{d r} f{\\left(r \\right)}}{2 r f{\\left(r \\right)} g^{2}{\\left(r \\right)}}\\end{matrix}\\right]$"
      ],
      "text/plain": [
       "[[-Derivative(f(r), (r, 2))/(2*f(r)*g(r)**2) + Derivative(f(r), r)*Derivative(g(r), r)/(2*f(r)*g(r)**3) - 1/(2*r**2) + 1/(2*r**2*g(r)**2), 0, 0], [0, -Derivative(g(r), r)/(2*r*g(r)**3) - Derivative(f(r), r)/(2*r*f(r)*g(r)**2), 0], [0, 0, -Derivative(g(r), r)/(2*r*g(r)**3) - Derivative(f(r), r)/(2*r*f(r)*g(r)**2)]]"
      ]
     },
     "metadata": {},
     "output_type": "display_data"
    }
   ],
   "source": [
    "import sys\n",
    "import os\n",
    "\n",
    "try:\n",
    "    from diffform import *\n",
    "except ImportError as e:\n",
    "    sys.path.append(os.getcwd()+'/..')\n",
    "    from core import *\n",
    "\n",
    "\n",
    "from sympy import symbols, sin, Function, I, Array, permutedims, Eq, solve, cos, simplify, sqrt\n",
    "\n",
    "set_max_degree(4)\n",
    "\n",
    "coords = t,r,theta,phi = symbols(r\"t r \\theta \\phi\")\n",
    "basis = dt,dr,dtheta,dphi = d(t), d(r), d(theta), d(phi)\n",
    "\n",
    "# f = sqrt(1-1/r)\n",
    "f = Function(\"f\")(r)\n",
    "\n",
    "# g = 1/f\n",
    "g = Function(\"g\")(r)\n",
    "\n",
    "e0 = f*dt\n",
    "e1 = g*dr\n",
    "e2 = r*dtheta\n",
    "e3 = r*sin(theta)*dphi\n",
    "\n",
    "display(\"Tetrads\")\n",
    "display(e0)\n",
    "display(e1)\n",
    "display(e2)\n",
    "display(e3)\n",
    "print(\"\")\n",
    "\n",
    "S1 = I*e0*e1 - e2*e3\n",
    "S2 = I*e0*e2 - e3*e1\n",
    "S3 = I*e0*e3 - e1*e2\n",
    "\n",
    "AS1 = I*e0*e1 + e2*e3\n",
    "AS2 = I*e0*e2 + e3*e1\n",
    "AS3 = I*e0*e3 + e1*e2\n",
    "\n",
    "display(\"Self-Dual 2-forms\")\n",
    "display(S1)\n",
    "display(S2)\n",
    "display(S3)\n",
    "\n",
    "A_symbols = permutedims(Array([symbols(f\"A^{{1:4}}_{{{str(c)}}}\") for c in coords]),(1,0))\n",
    "\n",
    "A1 = sum([A_symbols[0,i]*basis[i] for i in range(4)])\n",
    "A2 = sum([A_symbols[1,i]*basis[i] for i in range(4)])\n",
    "A3 = sum([A_symbols[2,i]*basis[i] for i in range(4)])\n",
    "\n",
    "# A1 = I*f.diff(r)/g*dt + cos(theta)*dphi \n",
    "# A2 = -1/g * sin(theta) * dphi\n",
    "# A3 = 1/g * dtheta\n",
    "\n",
    "dAS1 = S1.d + A2*S3 - A3*S2\n",
    "dAS2 = S2.d + A3*S1 - A1*S3\n",
    "dAS3 = S3.d + A1*S2 - A2*S1\n",
    "\n",
    "dA_equations = [Eq(fa,0) for fa in dAS1.factors] + [Eq(fa,0) for fa in dAS2.factors] + [Eq(fa,0) for fa in dAS3.factors]\n",
    "\n",
    "A_sol = solve(dA_equations)\n",
    "\n",
    "A_solution = A_symbols.subs(A_sol[-1])\n",
    "\n",
    "A1 = sum([A_solution[0,i]*basis[i] for i in range(4)])\n",
    "A2 = sum([A_solution[1,i]*basis[i] for i in range(4)])\n",
    "A3 = sum([A_solution[2,i]*basis[i] for i in range(4)])\n",
    "\n",
    "print(\"\")\n",
    "print(\"Self-Dual Connection\")\n",
    "display(A1)\n",
    "display(A2)\n",
    "display(A3)\n",
    "\n",
    "F1 = A1.d + A2*A3\n",
    "F2 = A2.d + A3*A1\n",
    "F3 = A3.d + A1*A2\n",
    "\n",
    "F  = [F1,F2,F3]\n",
    "S  = [S1,S2,S3]\n",
    "AS = [AS1,AS2,AS3]\n",
    "\n",
    "psi_symbols = Array([[symbols(rf\"\\psi^{{{i+1}{j+1}}}\") for j in range(3)] for i in range(3)])\n",
    "R_symbols = Array([[symbols(rf\"R^{{{i+1}{j+1}}}\") for j in range(3)] for i in range(3)])\n",
    "\n",
    "psi_R_symbols = []\n",
    "for i in range(3):\n",
    "    for j in range(3):\n",
    "        psi_R_symbols.append(psi_symbols[i,j])\n",
    "        psi_R_symbols.append(R_symbols[i,j])\n",
    "\n",
    "F_PS_RAS = [ F[i] - sum([ psi_symbols[i,j]*S[j] + R_symbols[i,j]*AS[j] for j in range(3)]) for i in range(3)]\n",
    "\n",
    "psi_R_equations = []\n",
    "for ps in F_PS_RAS:\n",
    "    for  fa in ps.factors:\n",
    "        psi_R_equations.append(Eq(fa,0))\n",
    "    \n",
    "psi_R_sols = solve(psi_R_equations,psi_R_symbols)\n",
    "\n",
    "R_solution   = R_symbols.subs(psi_R_sols)\n",
    "psi_solution = psi_symbols.subs(psi_R_sols)\n",
    "\n",
    "print(\"\")\n",
    "print(\"Self-Dual Weyl\")\n",
    "display(psi_solution)\n",
    "print(\"Self-Dual Ricci\")\n",
    "display(R_solution)"
   ]
  },
  {
   "cell_type": "code",
   "execution_count": 11,
   "metadata": {},
   "outputs": [
    {
     "data": {
      "text/latex": [
       "$(- \\sin{\\left(\\theta \\right)})d\\theta$"
      ],
      "text/plain": [
       "<core.DifferentialFormMul at 0x7f38c61c3bc0>"
      ]
     },
     "metadata": {},
     "output_type": "display_data"
    },
    {
     "data": {
      "text/latex": [
       "$(\\cos{\\left(\\theta \\right)})d\\theta$"
      ],
      "text/plain": [
       "<core.DifferentialFormMul at 0x7f38c5101130>"
      ]
     },
     "metadata": {},
     "output_type": "display_data"
    },
    {
     "data": {
      "text/latex": [
       "$(- \\cos{\\left(\\theta \\right)})d\\theta$"
      ],
      "text/plain": [
       "<core.DifferentialFormMul at 0x7f38c5102030>"
      ]
     },
     "metadata": {},
     "output_type": "display_data"
    },
    {
     "data": {
      "text/latex": [
       "$(- \\sin{\\left(\\theta \\right)})d\\theta$"
      ],
      "text/plain": [
       "<core.DifferentialFormMul at 0x7f38c5013530>"
      ]
     },
     "metadata": {},
     "output_type": "display_data"
    }
   ],
   "source": [
    "import sys\n",
    "import os\n",
    "\n",
    "try:\n",
    "    from diffform import *\n",
    "except ImportError as e:\n",
    "    sys.path.append(os.getcwd()+'/..')\n",
    "    from core import *\n",
    "\n",
    "from sympy import symbols, sin, cos, Matrix, simplify\n",
    "\n",
    "coords = theta,phi = symbols(r\"\\theta \\phi\")\n",
    "basis = dtheta,dphi = d(theta), d(phi)\n",
    "\n",
    "x = cos(theta)**2*dtheta\n",
    "y = sin(theta)**2*dtheta\n",
    "\n",
    "g = Matrix([[cos(theta),sin(theta)],[-sin(theta),cos(theta)]])"
   ]
  },
  {
   "cell_type": "code",
   "execution_count": null,
   "metadata": {},
   "outputs": [],
   "source": []
  }
 ],
 "metadata": {
  "kernelspec": {
   "display_name": "Python 3",
   "language": "python",
   "name": "python3"
  },
  "language_info": {
   "codemirror_mode": {
    "name": "ipython",
    "version": 3
   },
   "file_extension": ".py",
   "mimetype": "text/x-python",
   "name": "python",
   "nbconvert_exporter": "python",
   "pygments_lexer": "ipython3",
   "version": "3.12.0"
  }
 },
 "nbformat": 4,
 "nbformat_minor": 2
}
