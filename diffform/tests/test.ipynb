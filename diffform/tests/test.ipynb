{
 "cells": [
  {
   "cell_type": "code",
   "execution_count": 10,
   "metadata": {},
   "outputs": [
    {
     "name": "stdout",
     "output_type": "stream",
     "text": [
      "backup import\n"
     ]
    },
    {
     "data": {
      "text/plain": [
       "'Tetrads'"
      ]
     },
     "metadata": {},
     "output_type": "display_data"
    },
    {
     "data": {
      "text/latex": [
       "$(f{\\left(r \\right)})dt$"
      ],
      "text/plain": [
       "<core.DifferentialFormMul at 0x7fc4814129f0>"
      ]
     },
     "metadata": {},
     "output_type": "display_data"
    },
    {
     "data": {
      "text/latex": [
       "$(g{\\left(r \\right)})dr$"
      ],
      "text/plain": [
       "<core.DifferentialFormMul at 0x7fc482063a40>"
      ]
     },
     "metadata": {},
     "output_type": "display_data"
    },
    {
     "data": {
      "text/latex": [
       "$(r)d\\theta$"
      ],
      "text/plain": [
       "<core.DifferentialFormMul at 0x7fc481f38b30>"
      ]
     },
     "metadata": {},
     "output_type": "display_data"
    },
    {
     "data": {
      "text/latex": [
       "$(r \\sin{\\left(\\theta \\right)})d\\phi$"
      ],
      "text/plain": [
       "<core.DifferentialFormMul at 0x7fc480de6630>"
      ]
     },
     "metadata": {},
     "output_type": "display_data"
    },
    {
     "name": "stdout",
     "output_type": "stream",
     "text": [
      "\n"
     ]
    },
    {
     "data": {
      "text/plain": [
       "'Self-Dual 2-forms'"
      ]
     },
     "metadata": {},
     "output_type": "display_data"
    },
    {
     "data": {
      "text/latex": [
       "$(i f{\\left(r \\right)} g{\\left(r \\right)})dt \\wedge dr+(- r^{2} \\sin{\\left(\\theta \\right)})d\\theta \\wedge d\\phi$"
      ],
      "text/plain": [
       "<core.DifferentialFormMul at 0x7fc481038170>"
      ]
     },
     "metadata": {},
     "output_type": "display_data"
    },
    {
     "data": {
      "text/latex": [
       "$(i r f{\\left(r \\right)})dt \\wedge d\\theta+(r g{\\left(r \\right)} \\sin{\\left(\\theta \\right)})dr \\wedge d\\phi$"
      ],
      "text/plain": [
       "<core.DifferentialFormMul at 0x7fc48103bf20>"
      ]
     },
     "metadata": {},
     "output_type": "display_data"
    },
    {
     "data": {
      "text/latex": [
       "$(i r f{\\left(r \\right)} \\sin{\\left(\\theta \\right)})dt \\wedge d\\phi+(- r g{\\left(r \\right)})dr \\wedge d\\theta$"
      ],
      "text/plain": [
       "<core.DifferentialFormMul at 0x7fc482033140>"
      ]
     },
     "metadata": {},
     "output_type": "display_data"
    },
    {
     "name": "stdout",
     "output_type": "stream",
     "text": [
      "\n",
      "Self-Dual Connection\n"
     ]
    },
    {
     "data": {
      "text/latex": [
       "$(\\frac{i \\frac{d}{d r} f{\\left(r \\right)}}{g{\\left(r \\right)}})dt+(\\cos{\\left(\\theta \\right)})d\\phi$"
      ],
      "text/plain": [
       "<core.DifferentialFormMul at 0x7fc46b681400>"
      ]
     },
     "metadata": {},
     "output_type": "display_data"
    },
    {
     "data": {
      "text/latex": [
       "$(- \\frac{\\sin{\\left(\\theta \\right)}}{g{\\left(r \\right)}})d\\phi$"
      ],
      "text/plain": [
       "<core.DifferentialFormMul at 0x7fc46b682ea0>"
      ]
     },
     "metadata": {},
     "output_type": "display_data"
    },
    {
     "data": {
      "text/latex": [
       "$(\\frac{1}{g{\\left(r \\right)}})d\\theta$"
      ],
      "text/plain": [
       "<core.DifferentialFormMul at 0x7fc46b681550>"
      ]
     },
     "metadata": {},
     "output_type": "display_data"
    },
    {
     "name": "stdout",
     "output_type": "stream",
     "text": [
      "\n",
      "Self-Dual Weyl\n"
     ]
    },
    {
     "data": {
      "text/latex": [
       "$\\displaystyle \\left[\\begin{matrix}- \\frac{\\frac{d^{2}}{d r^{2}} f{\\left(r \\right)}}{2 f{\\left(r \\right)} g^{2}{\\left(r \\right)}} + \\frac{\\frac{d}{d r} f{\\left(r \\right)} \\frac{d}{d r} g{\\left(r \\right)}}{2 f{\\left(r \\right)} g^{3}{\\left(r \\right)}} + \\frac{1}{2 r^{2}} - \\frac{1}{2 r^{2} g^{2}{\\left(r \\right)}} & 0 & 0\\\\0 & \\frac{\\frac{d}{d r} g{\\left(r \\right)}}{2 r g^{3}{\\left(r \\right)}} - \\frac{\\frac{d}{d r} f{\\left(r \\right)}}{2 r f{\\left(r \\right)} g^{2}{\\left(r \\right)}} & 0\\\\0 & 0 & \\frac{\\frac{d}{d r} g{\\left(r \\right)}}{2 r g^{3}{\\left(r \\right)}} - \\frac{\\frac{d}{d r} f{\\left(r \\right)}}{2 r f{\\left(r \\right)} g^{2}{\\left(r \\right)}}\\end{matrix}\\right]$"
      ],
      "text/plain": [
       "[[-Derivative(f(r), (r, 2))/(2*f(r)*g(r)**2) + Derivative(f(r), r)*Derivative(g(r), r)/(2*f(r)*g(r)**3) + 1/(2*r**2) - 1/(2*r**2*g(r)**2), 0, 0], [0, Derivative(g(r), r)/(2*r*g(r)**3) - Derivative(f(r), r)/(2*r*f(r)*g(r)**2), 0], [0, 0, Derivative(g(r), r)/(2*r*g(r)**3) - Derivative(f(r), r)/(2*r*f(r)*g(r)**2)]]"
      ]
     },
     "metadata": {},
     "output_type": "display_data"
    },
    {
     "name": "stdout",
     "output_type": "stream",
     "text": [
      "Self-Dual Ricci\n"
     ]
    },
    {
     "data": {
      "text/latex": [
       "$\\displaystyle \\left[\\begin{matrix}- \\frac{\\frac{d^{2}}{d r^{2}} f{\\left(r \\right)}}{2 f{\\left(r \\right)} g^{2}{\\left(r \\right)}} + \\frac{\\frac{d}{d r} f{\\left(r \\right)} \\frac{d}{d r} g{\\left(r \\right)}}{2 f{\\left(r \\right)} g^{3}{\\left(r \\right)}} - \\frac{1}{2 r^{2}} + \\frac{1}{2 r^{2} g^{2}{\\left(r \\right)}} & 0 & 0\\\\0 & - \\frac{\\frac{d}{d r} g{\\left(r \\right)}}{2 r g^{3}{\\left(r \\right)}} - \\frac{\\frac{d}{d r} f{\\left(r \\right)}}{2 r f{\\left(r \\right)} g^{2}{\\left(r \\right)}} & 0\\\\0 & 0 & - \\frac{\\frac{d}{d r} g{\\left(r \\right)}}{2 r g^{3}{\\left(r \\right)}} - \\frac{\\frac{d}{d r} f{\\left(r \\right)}}{2 r f{\\left(r \\right)} g^{2}{\\left(r \\right)}}\\end{matrix}\\right]$"
      ],
      "text/plain": [
       "[[-Derivative(f(r), (r, 2))/(2*f(r)*g(r)**2) + Derivative(f(r), r)*Derivative(g(r), r)/(2*f(r)*g(r)**3) - 1/(2*r**2) + 1/(2*r**2*g(r)**2), 0, 0], [0, -Derivative(g(r), r)/(2*r*g(r)**3) - Derivative(f(r), r)/(2*r*f(r)*g(r)**2), 0], [0, 0, -Derivative(g(r), r)/(2*r*g(r)**3) - Derivative(f(r), r)/(2*r*f(r)*g(r)**2)]]"
      ]
     },
     "metadata": {},
     "output_type": "display_data"
    }
   ],
   "source": [
    "import sys\n",
    "import os\n",
    "\n",
    "try:\n",
    "    from diffform import *\n",
    "except ImportError as e:\n",
    "    sys.path.append(os.getcwd()+'/..')\n",
    "    from core import *\n",
    "\n",
    "\n",
    "from sympy import symbols, sin, Function, I, Array, permutedims, Eq, solve, cos, simplify, sqrt\n",
    "\n",
    "set_max_degree(4)\n",
    "\n",
    "coords = t,r,theta,phi = symbols(r\"t r \\theta \\phi\")\n",
    "basis = dt,dr,dtheta,dphi = d(t), d(r), d(theta), d(phi)\n",
    "\n",
    "# f = sqrt(1-1/r)\n",
    "f = Function(\"f\")(r)\n",
    "\n",
    "# g = 1/f\n",
    "g = Function(\"g\")(r)\n",
    "\n",
    "e0 = f*dt\n",
    "e1 = g*dr\n",
    "e2 = r*dtheta\n",
    "e3 = r*sin(theta)*dphi\n",
    "\n",
    "display(\"Tetrads\")\n",
    "display(e0)\n",
    "display(e1)\n",
    "display(e2)\n",
    "display(e3)\n",
    "print(\"\")\n",
    "\n",
    "S1 = I*e0*e1 - e2*e3\n",
    "S2 = I*e0*e2 - e3*e1\n",
    "S3 = I*e0*e3 - e1*e2\n",
    "\n",
    "AS1 = I*e0*e1 + e2*e3\n",
    "AS2 = I*e0*e2 + e3*e1\n",
    "AS3 = I*e0*e3 + e1*e2\n",
    "\n",
    "display(\"Self-Dual 2-forms\")\n",
    "display(S1)\n",
    "display(S2)\n",
    "display(S3)\n",
    "\n",
    "A_symbols = permutedims(Array([symbols(f\"A^{{1:4}}_{{{str(c)}}}\") for c in coords]),(1,0))\n",
    "\n",
    "A1 = sum([A_symbols[0,i]*basis[i] for i in range(4)])\n",
    "A2 = sum([A_symbols[1,i]*basis[i] for i in range(4)])\n",
    "A3 = sum([A_symbols[2,i]*basis[i] for i in range(4)])\n",
    "\n",
    "# A1 = I*f.diff(r)/g*dt + cos(theta)*dphi \n",
    "# A2 = -1/g * sin(theta) * dphi\n",
    "# A3 = 1/g * dtheta\n",
    "\n",
    "dAS1 = S1.d + A2*S3 - A3*S2\n",
    "dAS2 = S2.d + A3*S1 - A1*S3\n",
    "dAS3 = S3.d + A1*S2 - A2*S1\n",
    "\n",
    "dA_equations = [Eq(fa,0) for fa in dAS1.factors] + [Eq(fa,0) for fa in dAS2.factors] + [Eq(fa,0) for fa in dAS3.factors]\n",
    "\n",
    "A_sol = solve(dA_equations)\n",
    "\n",
    "A_solution = A_symbols.subs(A_sol[-1])\n",
    "\n",
    "A1 = sum([A_solution[0,i]*basis[i] for i in range(4)])\n",
    "A2 = sum([A_solution[1,i]*basis[i] for i in range(4)])\n",
    "A3 = sum([A_solution[2,i]*basis[i] for i in range(4)])\n",
    "\n",
    "print(\"\")\n",
    "print(\"Self-Dual Connection\")\n",
    "display(A1)\n",
    "display(A2)\n",
    "display(A3)\n",
    "\n",
    "F1 = A1.d + A2*A3\n",
    "F2 = A2.d + A3*A1\n",
    "F3 = A3.d + A1*A2\n",
    "\n",
    "F  = [F1,F2,F3]\n",
    "S  = [S1,S2,S3]\n",
    "AS = [AS1,AS2,AS3]\n",
    "\n",
    "psi_symbols = Array([[symbols(rf\"\\psi^{{{i+1}{j+1}}}\") for j in range(3)] for i in range(3)])\n",
    "R_symbols = Array([[symbols(rf\"R^{{{i+1}{j+1}}}\") for j in range(3)] for i in range(3)])\n",
    "\n",
    "psi_R_symbols = []\n",
    "for i in range(3):\n",
    "    for j in range(3):\n",
    "        psi_R_symbols.append(psi_symbols[i,j])\n",
    "        psi_R_symbols.append(R_symbols[i,j])\n",
    "\n",
    "F_PS_RAS = [ F[i] - sum([ psi_symbols[i,j]*S[j] + R_symbols[i,j]*AS[j] for j in range(3)]) for i in range(3)]\n",
    "\n",
    "psi_R_equations = []\n",
    "for ps in F_PS_RAS:\n",
    "    for  fa in ps.factors:\n",
    "        psi_R_equations.append(Eq(fa,0))\n",
    "    \n",
    "psi_R_sols = solve(psi_R_equations,psi_R_symbols)\n",
    "\n",
    "R_solution   = R_symbols.subs(psi_R_sols)\n",
    "psi_solution = psi_symbols.subs(psi_R_sols)\n",
    "\n",
    "print(\"\")\n",
    "print(\"Self-Dual Weyl\")\n",
    "display(psi_solution)\n",
    "print(\"Self-Dual Ricci\")\n",
    "display(R_solution)"
   ]
  },
  {
   "cell_type": "markdown",
   "metadata": {},
   "source": []
  },
  {
   "cell_type": "code",
   "execution_count": 2,
   "metadata": {},
   "outputs": [
    {
     "data": {
      "text/latex": [
       "$\\displaystyle \\Sigma^{i}$"
      ],
      "text/plain": [
       "\\Sigma^i"
      ]
     },
     "metadata": {},
     "output_type": "display_data"
    },
    {
     "data": {
      "text/latex": [
       "$(-1)d\\left(z\\right) \\wedge \\alpha+(w e^{u})d\\left(y\\right) \\wedge d\\left(x\\right)$"
      ],
      "text/plain": [
       "<core.DifferentialFormMul at 0x7f6a2e973500>"
      ]
     },
     "metadata": {},
     "output_type": "display_data"
    },
    {
     "data": {
      "text/latex": [
       "$(- e^{\\frac{u}{2}})d\\left(x\\right) \\wedge \\alpha+(w e^{\\frac{u}{2}})d\\left(z\\right) \\wedge d\\left(y\\right)$"
      ],
      "text/plain": [
       "<core.DifferentialFormMul at 0x7f6a2e973650>"
      ]
     },
     "metadata": {},
     "output_type": "display_data"
    },
    {
     "data": {
      "text/latex": [
       "$(- e^{\\frac{u}{2}})d\\left(y\\right) \\wedge \\alpha+(- w e^{\\frac{u}{2}})d\\left(z\\right) \\wedge d\\left(x\\right)$"
      ],
      "text/plain": [
       "<core.DifferentialFormMul at 0x7f6a2e9736b0>"
      ]
     },
     "metadata": {},
     "output_type": "display_data"
    },
    {
     "data": {
      "text/latex": [
       "$(- \\frac{w e^{\\frac{u}{2}} \\partial_{z} u}{2} + w e^{u} \\partial_{z} u - e^{\\frac{u}{2}} \\partial_{z} w + e^{u} \\partial_{z} w)d\\left(z\\right) \\wedge d\\left(y\\right) \\wedge d\\left(x\\right)$"
      ],
      "text/plain": [
       "<core.DifferentialFormMul at 0x7f6a2e970bf0>"
      ]
     },
     "execution_count": 2,
     "metadata": {},
     "output_type": "execute_result"
    }
   ],
   "source": [
    "import sys\n",
    "import os\n",
    "\n",
    "try:\n",
    "    from diffform import *\n",
    "except ImportError as e:\n",
    "    sys.path.append(os.getcwd()+'/..')\n",
    "    from core import *\n",
    "\n",
    "from sympy import symbols, sin, Function, I, Array, permutedims, Eq, solve, cos, simplify, sqrt,exp, ln\n",
    "\n",
    "set_max_degree(4)\n",
    "\n",
    "coords = a,x,y,z = symbols(r\"\\alpha x y z\")\n",
    "basis = alpha,dx,dy,dz = DifferentialForm(a,1),d(x),d(y),d(z)\n",
    "\n",
    "w = Function(\"w\")(x,y,z)\n",
    "u = Function(\"u\")(x,y,z)\n",
    "\n",
    "d_alpha = w.diff(x)*dy*dz + w.diff(y)*dz*dx + (exp(u/2)*w).diff(z)*dx*dy\n",
    "\n",
    "# n = symbols(\"n\",integer=True)\n",
    "\n",
    "e0 = 1/(sqrt(w))*alpha\n",
    "e1 = sqrt(w)*dz\n",
    "e2 = exp(u/2)*sqrt(w)*dx\n",
    "e3 = exp(u/2)*sqrt(w)*dy\n",
    "\n",
    "S1 = e0*e1-e2*e3\n",
    "S2 = e0*e2-e3*e1\n",
    "S3 = e0*e3-e1*e2\n",
    "\n",
    "display(symbols(r\"\\Sigma^i\"))\n",
    "display(S1)\n",
    "display(S2)\n",
    "display(S3)\n",
    "\n",
    "dS1 = (S1.d).subs(alpha.d,d_alpha)\n",
    "\n",
    "dS1\n",
    "\n",
    "# coord_names = [str(c) for c in coords]\n",
    "\n",
    "# A1_alpha,A1_x,A1_y,A1_z = [symbols(r\"A^1_\"+c)for c in coord_names]\n",
    "# A2_alpha,A2_x,A2_y,A2_z = [symbols(r\"A^2_\"+c)for c in coord_names]\n",
    "# A3_alpha,A3_x,A3_y,A3_z = [symbols(r\"A^3_\"+c)for c in coord_names]\n",
    "\n",
    "# A1_alpha = 1/(lamb*w*exp(u/2))*(exp(u/2)*lamb).diff(z)\n",
    "# A1_x = -u.diff(y)/2\n",
    "# A1_y = u.diff(x)/2\n",
    "# A1_z = 0\n",
    "\n",
    "# A2_alpha = 0\n",
    "# A2_x = 0\n",
    "# A2_y = -exp(u/2)*lamb.diff(z)/lamb\n",
    "# A2_z = 0\n",
    "\n",
    "# A3_alpha = 0\n",
    "# A3_x = -A2_y\n",
    "# A3_y = 0\n",
    "# A3_z = 0\n",
    "\n",
    "# A1 = A1_alpha*alpha + A1_x*dx + A1_y*dy + A1_z*dz\n",
    "# A2 = A2_alpha*alpha + A2_x*dx + A2_y*dy + A2_z*dz\n",
    "# A3 = A3_alpha*alpha + A3_x*dx + A3_y*dy + A3_z*dz\n",
    "\n",
    "\n",
    "# display(symbols(r\"d^A{\\Sigma^i}\"))\n",
    "# dAS1 = (dS1 + A2*S3-A3*S2).simplify()\n",
    "# dAS2 = (dS2 + A3*S1-A1*S3).simplify()\n",
    "# dAS3 = (dS3 + A1*S2-A2*S1).simplify()\n",
    "\n",
    "# display(dAS1)\n",
    "# display(dAS2)\n",
    "# display(dAS3)\n",
    "\n",
    "# F1 = (d(A1_alpha)*alpha + A1_alpha*d_alpha + d(A1_x)*dx + d(A1_y)*dy + d(A1_z)*dz + A2*A3).simplify()\n",
    "# F2 = (d(A2)+A3*A1).simplify()\n",
    "# F3 = (d(A3)+A1*A2).simplify()\n",
    "\n",
    "# display(F1)\n",
    "# display(F2)\n",
    "# display(F3)\n",
    "\n",
    "\n",
    "\n"
   ]
  },
  {
   "cell_type": "code",
   "execution_count": 4,
   "metadata": {},
   "outputs": [
    {
     "data": {
      "text/latex": [
       "$(\\frac{2 f \\left(x - y\\right) \\left(F \\partial_{x} \\alpha - G \\partial_{y} \\alpha\\right) \\left(\\partial_{x} \\alpha \\partial_{y} \\beta - \\partial_{y} \\alpha \\partial_{x} \\beta\\right) e^{2 \\beta} + 2 f \\left(F \\partial^{2}_{x} \\beta + F \\partial^2_{y x} \\beta - G \\partial^{2}_{y} \\beta - G \\partial^2_{y x} \\beta + \\left(F \\partial_{x} \\alpha - G \\partial_{y} \\alpha\\right) e^{2 \\beta} \\partial_{x} \\alpha + \\left(F \\partial_{x} \\alpha - G \\partial_{y} \\alpha\\right) e^{2 \\beta} \\partial_{y} \\alpha + \\partial_{x} F \\partial_{x} \\beta - \\partial_{y} G \\partial_{y} \\beta\\right) + f \\left(- 2 F \\partial^{2}_{x} \\beta - 2 F \\partial^2_{y x} \\beta + 2 G \\partial^{2}_{y} \\beta + 2 G \\partial^2_{y x} \\beta + \\left(x - y\\right) \\left(F \\partial^2_{y x^{2}} \\beta - G \\partial^2_{y^{2} x} \\beta + 2 \\left(F \\partial_{x} \\alpha - G \\partial_{y} \\alpha\\right) e^{2 \\beta} \\partial_{x} \\alpha \\partial_{y} \\beta + \\left(F \\partial_{x} \\alpha - G \\partial_{y} \\alpha\\right) e^{2 \\beta} \\partial^2_{y x} \\alpha - \\left(- F \\partial^2_{y x} \\alpha + G \\partial^{2}_{y} \\alpha + \\partial_{y} G \\partial_{y} \\alpha\\right) e^{2 \\beta} \\partial_{x} \\alpha + \\partial_{x} F \\partial^2_{y x} \\beta - \\partial_{y} G \\partial^2_{y x} \\beta\\right) - \\left(x - y\\right) \\left(F \\partial^2_{y x^{2}} \\beta - G \\partial^2_{y^{2} x} \\beta + 2 \\left(F \\partial_{x} \\alpha - G \\partial_{y} \\alpha\\right) e^{2 \\beta} \\partial_{y} \\alpha \\partial_{x} \\beta + \\left(F \\partial_{x} \\alpha - G \\partial_{y} \\alpha\\right) e^{2 \\beta} \\partial^2_{y x} \\alpha + \\left(F \\partial^{2}_{x} \\alpha - G \\partial^2_{y x} \\alpha + \\partial_{x} F \\partial_{x} \\alpha\\right) e^{2 \\beta} \\partial_{y} \\alpha + \\partial_{x} F \\partial^2_{y x} \\beta - \\partial_{y} G \\partial^2_{y x} \\beta\\right) - \\left(F \\partial_{x} \\alpha - G \\partial_{y} \\alpha\\right) e^{2 \\beta} \\partial_{x} \\alpha - \\left(F \\partial_{x} \\alpha - G \\partial_{y} \\alpha\\right) e^{2 \\beta} \\partial_{y} \\alpha - 2 \\left(- F \\partial_{x} \\alpha + G \\partial_{y} \\alpha + \\left(x - y\\right) \\left(- F \\partial_{x} \\alpha \\partial_{y} \\beta - F \\partial^2_{y x} \\alpha + G \\partial_{y} \\alpha \\partial_{y} \\beta + G \\partial^{2}_{y} \\alpha + \\left(F \\partial_{x} \\beta - G \\partial_{y} \\beta\\right) \\partial_{y} \\alpha + \\partial_{y} G \\partial_{y} \\alpha\\right)\\right) e^{2 \\beta} \\partial_{x} \\alpha + 2 \\left(F \\partial_{x} \\alpha - G \\partial_{y} \\alpha + \\left(x - y\\right) \\left(- F \\partial_{x} \\alpha \\partial_{x} \\beta - F \\partial^{2}_{x} \\alpha + G \\partial_{y} \\alpha \\partial_{x} \\beta + G \\partial^2_{y x} \\alpha + \\left(F \\partial_{x} \\beta - G \\partial_{y} \\beta\\right) \\partial_{x} \\alpha - \\partial_{x} F \\partial_{x} \\alpha\\right)\\right) e^{2 \\beta} \\partial_{y} \\alpha - 2 \\partial_{x} F \\partial_{x} \\beta + 2 \\partial_{y} G \\partial_{y} \\beta\\right) - \\left(- F \\partial_{x} \\beta + G \\partial_{y} \\beta + \\left(x - y\\right) \\left(F \\partial^{2}_{x} \\beta - G \\partial^2_{y x} \\beta + \\left(F \\partial_{x} \\alpha - G \\partial_{y} \\alpha\\right) e^{2 \\beta} \\partial_{x} \\alpha + \\partial_{x} F \\partial_{x} \\beta\\right)\\right) \\partial_{y} f + \\left(F \\partial_{x} \\beta - G \\partial_{y} \\beta + \\left(x - y\\right) \\left(F \\partial^2_{y x} \\beta - G \\partial^{2}_{y} \\beta + \\left(F \\partial_{x} \\alpha - G \\partial_{y} \\alpha\\right) e^{2 \\beta} \\partial_{y} \\alpha - \\partial_{y} G \\partial_{y} \\beta\\right)\\right) \\partial_{x} f}{2 f^{2} \\left(x - y\\right)^{2}})d\\left(y\\right) \\wedge d\\left(x\\right) \\wedge d\\left(\\phi\\right)+(\\frac{- 6 F f x y e^{2 \\beta} \\left(\\partial_{x} \\alpha\\right)^{2} \\partial_{y} \\beta + 6 F f x y e^{2 \\beta} \\partial_{x} \\alpha \\partial_{y} \\alpha \\partial_{x} \\beta - 3 F f x y e^{2 \\beta} \\partial_{x} \\alpha \\partial^2_{y x} \\alpha + 3 F f x y e^{2 \\beta} \\partial^{2}_{x} \\alpha \\partial_{y} \\alpha - 3 F f x e^{2 \\beta} \\left(\\partial_{x} \\alpha\\right)^{2} + 6 F f y^{2} e^{2 \\beta} \\left(\\partial_{x} \\alpha\\right)^{2} \\partial_{y} \\beta - 6 F f y^{2} e^{2 \\beta} \\partial_{x} \\alpha \\partial_{y} \\alpha \\partial_{x} \\beta + 3 F f y^{2} e^{2 \\beta} \\partial_{x} \\alpha \\partial^2_{y x} \\alpha - 3 F f y^{2} e^{2 \\beta} \\partial^{2}_{x} \\alpha \\partial_{y} \\alpha - 3 F f y e^{2 \\beta} \\partial_{x} \\alpha \\partial_{y} \\alpha + F x y e^{2 \\beta} \\left(\\partial_{x} \\alpha\\right)^{2} \\partial_{y} f - F x y e^{2 \\beta} \\partial_{x} \\alpha \\partial_{y} \\alpha \\partial_{x} f + F x y \\partial^{2}_{x} \\beta \\partial_{y} f - F x y \\partial_{x} f \\partial^2_{y x} \\beta - F x \\partial_{x} \\beta \\partial_{x} f - F y^{2} e^{2 \\beta} \\left(\\partial_{x} \\alpha\\right)^{2} \\partial_{y} f + F y^{2} e^{2 \\beta} \\partial_{x} \\alpha \\partial_{y} \\alpha \\partial_{x} f - F y^{2} \\partial^{2}_{x} \\beta \\partial_{y} f + F y^{2} \\partial_{x} f \\partial^2_{y x} \\beta - F y \\partial_{x} \\beta \\partial_{y} f + 6 G f x^{2} e^{2 \\beta} \\partial_{x} \\alpha \\partial_{y} \\alpha \\partial_{y} \\beta + 3 G f x^{2} e^{2 \\beta} \\partial_{x} \\alpha \\partial^{2}_{y} \\alpha - 6 G f x^{2} e^{2 \\beta} \\left(\\partial_{y} \\alpha\\right)^{2} \\partial_{x} \\beta - 3 G f x^{2} e^{2 \\beta} \\partial_{y} \\alpha \\partial^2_{y x} \\alpha - 6 G f x y e^{2 \\beta} \\partial_{x} \\alpha \\partial_{y} \\alpha \\partial_{y} \\beta - 3 G f x y e^{2 \\beta} \\partial_{x} \\alpha \\partial^{2}_{y} \\alpha + 6 G f x y e^{2 \\beta} \\left(\\partial_{y} \\alpha\\right)^{2} \\partial_{x} \\beta + 3 G f x y e^{2 \\beta} \\partial_{y} \\alpha \\partial^2_{y x} \\alpha + 3 G f x e^{2 \\beta} \\partial_{x} \\alpha \\partial_{y} \\alpha + 3 G f y e^{2 \\beta} \\left(\\partial_{y} \\alpha\\right)^{2} - G x^{2} e^{2 \\beta} \\partial_{x} \\alpha \\partial_{y} \\alpha \\partial_{y} f + G x^{2} e^{2 \\beta} \\left(\\partial_{y} \\alpha\\right)^{2} \\partial_{x} f + G x^{2} \\partial^{2}_{y} \\beta \\partial_{x} f - G x^{2} \\partial_{y} f \\partial^2_{y x} \\beta + G x y e^{2 \\beta} \\partial_{x} \\alpha \\partial_{y} \\alpha \\partial_{y} f - G x y e^{2 \\beta} \\left(\\partial_{y} \\alpha\\right)^{2} \\partial_{x} f - G x y \\partial^{2}_{y} \\beta \\partial_{x} f + G x y \\partial_{y} f \\partial^2_{y x} \\beta + G x \\partial_{y} \\beta \\partial_{x} f + G y \\partial_{y} \\beta \\partial_{y} f + 3 f x^{2} e^{2 \\beta} \\partial_{y} G \\partial_{x} \\alpha \\partial_{y} \\alpha + 3 f x y e^{2 \\beta} \\partial_{x} F \\partial_{x} \\alpha \\partial_{y} \\alpha - 3 f x y e^{2 \\beta} \\partial_{y} G \\partial_{x} \\alpha \\partial_{y} \\alpha - 3 f y^{2} e^{2 \\beta} \\partial_{x} F \\partial_{x} \\alpha \\partial_{y} \\alpha + x^{2} \\partial_{y} G \\partial_{y} \\beta \\partial_{x} f + x y \\partial_{x} F \\partial_{x} \\beta \\partial_{y} f - x y \\partial_{y} G \\partial_{y} \\beta \\partial_{x} f - y^{2} \\partial_{x} F \\partial_{x} \\beta \\partial_{y} f}{2 f^{2} \\left(x^{2} - 2 x y + y^{2}\\right)})d\\left(y\\right) \\wedge d\\left(x\\right) \\wedge d\\left(t\\right)$"
      ],
      "text/plain": [
       "<core.DifferentialFormMul at 0x7f02a075e570>"
      ]
     },
     "metadata": {},
     "output_type": "display_data"
    },
    {
     "data": {
      "text/latex": [
       "$(\\frac{\\left(- \\frac{3 F f x \\partial_{x} \\alpha \\partial^2_{y x} \\beta}{2} + \\frac{3 F f x \\partial_{y} \\alpha \\partial^{2}_{x} \\beta}{2} + \\frac{3 F f y \\partial_{x} \\alpha \\partial^2_{y x} \\beta}{2} - \\frac{3 F f y \\partial_{y} \\alpha \\partial^{2}_{x} \\beta}{2} - \\frac{3 F f \\partial_{x} \\alpha \\partial_{x} \\beta}{2} - \\frac{3 F f \\partial_{y} \\alpha \\partial_{x} \\beta}{2} + F x \\partial_{x} \\alpha \\partial_{y} \\beta \\partial_{x} f - F x \\partial^{2}_{x} \\alpha \\partial_{y} f - F x \\partial_{y} \\alpha \\partial_{x} \\beta \\partial_{x} f + F x \\partial_{x} f \\partial^2_{y x} \\alpha - F y \\partial_{x} \\alpha \\partial_{y} \\beta \\partial_{x} f + F y \\partial^{2}_{x} \\alpha \\partial_{y} f + F y \\partial_{y} \\alpha \\partial_{x} \\beta \\partial_{x} f - F y \\partial_{x} f \\partial^2_{y x} \\alpha + F \\partial_{x} \\alpha \\partial_{x} f + F \\partial_{x} \\alpha \\partial_{y} f + \\frac{3 G f x \\partial_{x} \\alpha \\partial^{2}_{y} \\beta}{2} - \\frac{3 G f x \\partial_{y} \\alpha \\partial^2_{y x} \\beta}{2} - \\frac{3 G f y \\partial_{x} \\alpha \\partial^{2}_{y} \\beta}{2} + \\frac{3 G f y \\partial_{y} \\alpha \\partial^2_{y x} \\beta}{2} + \\frac{3 G f \\partial_{x} \\alpha \\partial_{y} \\beta}{2} + \\frac{3 G f \\partial_{y} \\alpha \\partial_{y} \\beta}{2} - G x \\partial_{x} \\alpha \\partial_{y} \\beta \\partial_{y} f + G x \\partial_{y} \\alpha \\partial_{x} \\beta \\partial_{y} f - G x \\partial^{2}_{y} \\alpha \\partial_{x} f + G x \\partial_{y} f \\partial^2_{y x} \\alpha + G y \\partial_{x} \\alpha \\partial_{y} \\beta \\partial_{y} f - G y \\partial_{y} \\alpha \\partial_{x} \\beta \\partial_{y} f + G y \\partial^{2}_{y} \\alpha \\partial_{x} f - G y \\partial_{y} f \\partial^2_{y x} \\alpha - G \\partial_{y} \\alpha \\partial_{x} f - G \\partial_{y} \\alpha \\partial_{y} f + \\frac{3 f x \\partial_{x} F \\partial_{y} \\alpha \\partial_{x} \\beta}{2} + \\frac{3 f x \\partial_{y} G \\partial_{x} \\alpha \\partial_{y} \\beta}{2} - \\frac{3 f y \\partial_{x} F \\partial_{y} \\alpha \\partial_{x} \\beta}{2} - \\frac{3 f y \\partial_{y} G \\partial_{x} \\alpha \\partial_{y} \\beta}{2} - x \\partial_{x} F \\partial_{x} \\alpha \\partial_{y} f - x \\partial_{y} G \\partial_{y} \\alpha \\partial_{x} f + y \\partial_{x} F \\partial_{x} \\alpha \\partial_{y} f + y \\partial_{y} G \\partial_{y} \\alpha \\partial_{x} f\\right) e^{\\beta}}{f^{2} \\left(x^{2} - 2 x y + y^{2}\\right)})d\\left(y\\right) \\wedge d\\left(x\\right) \\wedge d\\left(\\phi\\right)+(\\frac{\\left(\\frac{3 F f x y \\partial_{x} \\alpha \\partial^2_{y x} \\beta}{2} - \\frac{3 F f x y \\partial_{y} \\alpha \\partial^{2}_{x} \\beta}{2} + \\frac{3 F f x \\partial_{x} \\alpha \\partial_{x} \\beta}{2} - \\frac{3 F f y^{2} \\partial_{x} \\alpha \\partial^2_{y x} \\beta}{2} + \\frac{3 F f y^{2} \\partial_{y} \\alpha \\partial^{2}_{x} \\beta}{2} + \\frac{3 F f y \\partial_{y} \\alpha \\partial_{x} \\beta}{2} - F x y \\partial_{x} \\alpha \\partial_{y} \\beta \\partial_{x} f + F x y \\partial^{2}_{x} \\alpha \\partial_{y} f + F x y \\partial_{y} \\alpha \\partial_{x} \\beta \\partial_{x} f - F x y \\partial_{x} f \\partial^2_{y x} \\alpha - F x \\partial_{x} \\alpha \\partial_{x} f + F y^{2} \\partial_{x} \\alpha \\partial_{y} \\beta \\partial_{x} f - F y^{2} \\partial^{2}_{x} \\alpha \\partial_{y} f - F y^{2} \\partial_{y} \\alpha \\partial_{x} \\beta \\partial_{x} f + F y^{2} \\partial_{x} f \\partial^2_{y x} \\alpha - F y \\partial_{x} \\alpha \\partial_{y} f - \\frac{3 G f x^{2} \\partial_{x} \\alpha \\partial^{2}_{y} \\beta}{2} + \\frac{3 G f x^{2} \\partial_{y} \\alpha \\partial^2_{y x} \\beta}{2} + \\frac{3 G f x y \\partial_{x} \\alpha \\partial^{2}_{y} \\beta}{2} - \\frac{3 G f x y \\partial_{y} \\alpha \\partial^2_{y x} \\beta}{2} - \\frac{3 G f x \\partial_{x} \\alpha \\partial_{y} \\beta}{2} - \\frac{3 G f y \\partial_{y} \\alpha \\partial_{y} \\beta}{2} + G x^{2} \\partial_{x} \\alpha \\partial_{y} \\beta \\partial_{y} f - G x^{2} \\partial_{y} \\alpha \\partial_{x} \\beta \\partial_{y} f + G x^{2} \\partial^{2}_{y} \\alpha \\partial_{x} f - G x^{2} \\partial_{y} f \\partial^2_{y x} \\alpha - G x y \\partial_{x} \\alpha \\partial_{y} \\beta \\partial_{y} f + G x y \\partial_{y} \\alpha \\partial_{x} \\beta \\partial_{y} f - G x y \\partial^{2}_{y} \\alpha \\partial_{x} f + G x y \\partial_{y} f \\partial^2_{y x} \\alpha + G x \\partial_{y} \\alpha \\partial_{x} f + G y \\partial_{y} \\alpha \\partial_{y} f - \\frac{3 f x^{2} \\partial_{y} G \\partial_{x} \\alpha \\partial_{y} \\beta}{2} - \\frac{3 f x y \\partial_{x} F \\partial_{y} \\alpha \\partial_{x} \\beta}{2} + \\frac{3 f x y \\partial_{y} G \\partial_{x} \\alpha \\partial_{y} \\beta}{2} + \\frac{3 f y^{2} \\partial_{x} F \\partial_{y} \\alpha \\partial_{x} \\beta}{2} + x^{2} \\partial_{y} G \\partial_{y} \\alpha \\partial_{x} f + x y \\partial_{x} F \\partial_{x} \\alpha \\partial_{y} f - x y \\partial_{y} G \\partial_{y} \\alpha \\partial_{x} f - y^{2} \\partial_{x} F \\partial_{x} \\alpha \\partial_{y} f\\right) e^{\\beta}}{f^{2} \\left(x^{2} - 2 x y + y^{2}\\right)})d\\left(y\\right) \\wedge d\\left(x\\right) \\wedge d\\left(t\\right)$"
      ],
      "text/plain": [
       "<core.DifferentialFormMul at 0x7f02a07c28d0>"
      ]
     },
     "metadata": {},
     "output_type": "display_data"
    },
    {
     "data": {
      "text/latex": [
       "$(\\frac{G \\left(3 F f x \\partial_{x} \\alpha \\partial^2_{y x} \\beta - 3 F f x \\partial_{y} \\alpha \\partial^{2}_{x} \\beta - 3 F f y \\partial_{x} \\alpha \\partial^2_{y x} \\beta + 3 F f y \\partial_{y} \\alpha \\partial^{2}_{x} \\beta + 3 F f \\partial_{y} \\alpha \\partial_{x} \\beta - 2 F x \\partial_{x} \\alpha \\partial_{y} \\beta \\partial_{x} f + 2 F x \\partial_{y} \\alpha \\partial_{x} \\beta \\partial_{x} f + 2 F y \\partial_{x} \\alpha \\partial_{y} \\beta \\partial_{x} f - 2 F y \\partial_{y} \\alpha \\partial_{x} \\beta \\partial_{x} f - 3 G f \\partial_{y} \\alpha \\partial_{y} \\beta - 3 f x \\partial_{x} F \\partial_{y} \\alpha \\partial_{x} \\beta + 3 f y \\partial_{x} F \\partial_{y} \\alpha \\partial_{x} \\beta\\right) e^{\\beta}}{2 f^{2} \\left(x^{2} - 2 x y + y^{2}\\right)})d\\left(x\\right) \\wedge d\\left(t\\right) \\wedge d\\left(\\phi\\right)+(\\frac{F \\left(- 3 F f \\partial_{x} \\alpha \\partial_{x} \\beta + 3 G f x \\partial_{x} \\alpha \\partial^{2}_{y} \\beta - 3 G f x \\partial_{y} \\alpha \\partial^2_{y x} \\beta - 3 G f y \\partial_{x} \\alpha \\partial^{2}_{y} \\beta + 3 G f y \\partial_{y} \\alpha \\partial^2_{y x} \\beta + 3 G f \\partial_{x} \\alpha \\partial_{y} \\beta - 2 G x \\partial_{x} \\alpha \\partial_{y} \\beta \\partial_{y} f + 2 G x \\partial_{y} \\alpha \\partial_{x} \\beta \\partial_{y} f + 2 G y \\partial_{x} \\alpha \\partial_{y} \\beta \\partial_{y} f - 2 G y \\partial_{y} \\alpha \\partial_{x} \\beta \\partial_{y} f + 3 f x \\partial_{y} G \\partial_{x} \\alpha \\partial_{y} \\beta - 3 f y \\partial_{y} G \\partial_{x} \\alpha \\partial_{y} \\beta\\right) e^{\\beta}}{2 f^{2} \\left(x^{2} - 2 x y + y^{2}\\right)})d\\left(y\\right) \\wedge d\\left(t\\right) \\wedge d\\left(\\phi\\right)$"
      ],
      "text/plain": [
       "<core.DifferentialFormMul at 0x7f02a064c8f0>"
      ]
     },
     "metadata": {},
     "output_type": "display_data"
    }
   ],
   "source": [
    "# Double Complex Structure Example\n",
    "\n",
    "import sys\n",
    "import os\n",
    "\n",
    "try:\n",
    "    from diffform import *\n",
    "except ImportError as e:\n",
    "    sys.path.append(os.getcwd()+'/..')\n",
    "    from core import *\n",
    "\n",
    "from sympy import symbols, exp, simplify\n",
    "\n",
    "set_max_degree(4)\n",
    "\n",
    "coords = t,x,y,phi = symbols(r\"t x y \\phi\")\n",
    "basis = dt,dx,dy,dphi = d(t),d(x),d(y),d(phi)\n",
    "\n",
    "F = Function(\"F\")(x)\n",
    "G = Function(\"G\")(y)\n",
    "\n",
    "f = Function(\"f\")(x,y)\n",
    "\n",
    "a,b,c,e = [Function(c)(x,y) for c in \"abce\"]\n",
    "\n",
    "alpha = Function(r\"\\alpha\")(x,y)\n",
    "beta = Function(r\"\\beta\")(x,y)\n",
    "\n",
    "a = F*beta.diff(x)/(x-y)\n",
    "b = -G*beta.diff(y)/(x-y)\n",
    "\n",
    "c = -F*exp(beta)*alpha.diff(x)/(x-y)\n",
    "e = G*exp(beta)*alpha.diff(y)/(x-y)\n",
    "\n",
    "b0 = dphi - y*dt\n",
    "b1 = dx\n",
    "b2 = dy\n",
    "b3 = dphi - x*dt\n",
    "\n",
    "A1 = a*b0 + b*b3\n",
    "A2 = c*b0 + e*b3\n",
    "A3 = -(x-y)*c/F*dx + (x-y)*e/G*dy\n",
    "\n",
    "F1 = simplify(A1.d + A2*A3)\n",
    "F2 = simplify(A2.d + A3*A1)\n",
    "F3 = simplify(A3.d + A1*A2)\n",
    "\n",
    "\n",
    "S1 = F1*(1/(2*f))\n",
    "S2 = F2*(1/(-f))\n",
    "S3 = F3*(1/(-f))\n",
    "\n",
    "dAS1 = simplify(S1.d + A2*S3 - A3*S2)\n",
    "dAS2 = simplify(S2.d + A3*S1 - A1*S3)\n",
    "dAS3 = simplify(S3.d + A1*S2 - A2*S1)\n",
    "\n",
    "display(dAS1)\n",
    "display(dAS2)\n",
    "display(dAS3)"
   ]
  },
  {
   "cell_type": "code",
   "execution_count": null,
   "metadata": {},
   "outputs": [],
   "source": []
  }
 ],
 "metadata": {
  "kernelspec": {
   "display_name": "Python 3",
   "language": "python",
   "name": "python3"
  },
  "language_info": {
   "codemirror_mode": {
    "name": "ipython",
    "version": 3
   },
   "file_extension": ".py",
   "mimetype": "text/x-python",
   "name": "python",
   "nbconvert_exporter": "python",
   "pygments_lexer": "ipython3",
   "version": "3.12.2"
  }
 },
 "nbformat": 4,
 "nbformat_minor": 2
}
