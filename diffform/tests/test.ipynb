{
 "cells": [
  {
   "cell_type": "code",
   "execution_count": 10,
   "metadata": {},
   "outputs": [
    {
     "name": "stdout",
     "output_type": "stream",
     "text": [
      "backup import\n"
     ]
    },
    {
     "data": {
      "text/plain": [
       "'Tetrads'"
      ]
     },
     "metadata": {},
     "output_type": "display_data"
    },
    {
     "data": {
      "text/latex": [
       "$(f{\\left(r \\right)})dt$"
      ],
      "text/plain": [
       "<core.DifferentialFormMul at 0x7fc4814129f0>"
      ]
     },
     "metadata": {},
     "output_type": "display_data"
    },
    {
     "data": {
      "text/latex": [
       "$(g{\\left(r \\right)})dr$"
      ],
      "text/plain": [
       "<core.DifferentialFormMul at 0x7fc482063a40>"
      ]
     },
     "metadata": {},
     "output_type": "display_data"
    },
    {
     "data": {
      "text/latex": [
       "$(r)d\\theta$"
      ],
      "text/plain": [
       "<core.DifferentialFormMul at 0x7fc481f38b30>"
      ]
     },
     "metadata": {},
     "output_type": "display_data"
    },
    {
     "data": {
      "text/latex": [
       "$(r \\sin{\\left(\\theta \\right)})d\\phi$"
      ],
      "text/plain": [
       "<core.DifferentialFormMul at 0x7fc480de6630>"
      ]
     },
     "metadata": {},
     "output_type": "display_data"
    },
    {
     "name": "stdout",
     "output_type": "stream",
     "text": [
      "\n"
     ]
    },
    {
     "data": {
      "text/plain": [
       "'Self-Dual 2-forms'"
      ]
     },
     "metadata": {},
     "output_type": "display_data"
    },
    {
     "data": {
      "text/latex": [
       "$(i f{\\left(r \\right)} g{\\left(r \\right)})dt \\wedge dr+(- r^{2} \\sin{\\left(\\theta \\right)})d\\theta \\wedge d\\phi$"
      ],
      "text/plain": [
       "<core.DifferentialFormMul at 0x7fc481038170>"
      ]
     },
     "metadata": {},
     "output_type": "display_data"
    },
    {
     "data": {
      "text/latex": [
       "$(i r f{\\left(r \\right)})dt \\wedge d\\theta+(r g{\\left(r \\right)} \\sin{\\left(\\theta \\right)})dr \\wedge d\\phi$"
      ],
      "text/plain": [
       "<core.DifferentialFormMul at 0x7fc48103bf20>"
      ]
     },
     "metadata": {},
     "output_type": "display_data"
    },
    {
     "data": {
      "text/latex": [
       "$(i r f{\\left(r \\right)} \\sin{\\left(\\theta \\right)})dt \\wedge d\\phi+(- r g{\\left(r \\right)})dr \\wedge d\\theta$"
      ],
      "text/plain": [
       "<core.DifferentialFormMul at 0x7fc482033140>"
      ]
     },
     "metadata": {},
     "output_type": "display_data"
    },
    {
     "name": "stdout",
     "output_type": "stream",
     "text": [
      "\n",
      "Self-Dual Connection\n"
     ]
    },
    {
     "data": {
      "text/latex": [
       "$(\\frac{i \\frac{d}{d r} f{\\left(r \\right)}}{g{\\left(r \\right)}})dt+(\\cos{\\left(\\theta \\right)})d\\phi$"
      ],
      "text/plain": [
       "<core.DifferentialFormMul at 0x7fc46b681400>"
      ]
     },
     "metadata": {},
     "output_type": "display_data"
    },
    {
     "data": {
      "text/latex": [
       "$(- \\frac{\\sin{\\left(\\theta \\right)}}{g{\\left(r \\right)}})d\\phi$"
      ],
      "text/plain": [
       "<core.DifferentialFormMul at 0x7fc46b682ea0>"
      ]
     },
     "metadata": {},
     "output_type": "display_data"
    },
    {
     "data": {
      "text/latex": [
       "$(\\frac{1}{g{\\left(r \\right)}})d\\theta$"
      ],
      "text/plain": [
       "<core.DifferentialFormMul at 0x7fc46b681550>"
      ]
     },
     "metadata": {},
     "output_type": "display_data"
    },
    {
     "name": "stdout",
     "output_type": "stream",
     "text": [
      "\n",
      "Self-Dual Weyl\n"
     ]
    },
    {
     "data": {
      "text/latex": [
       "$\\displaystyle \\left[\\begin{matrix}- \\frac{\\frac{d^{2}}{d r^{2}} f{\\left(r \\right)}}{2 f{\\left(r \\right)} g^{2}{\\left(r \\right)}} + \\frac{\\frac{d}{d r} f{\\left(r \\right)} \\frac{d}{d r} g{\\left(r \\right)}}{2 f{\\left(r \\right)} g^{3}{\\left(r \\right)}} + \\frac{1}{2 r^{2}} - \\frac{1}{2 r^{2} g^{2}{\\left(r \\right)}} & 0 & 0\\\\0 & \\frac{\\frac{d}{d r} g{\\left(r \\right)}}{2 r g^{3}{\\left(r \\right)}} - \\frac{\\frac{d}{d r} f{\\left(r \\right)}}{2 r f{\\left(r \\right)} g^{2}{\\left(r \\right)}} & 0\\\\0 & 0 & \\frac{\\frac{d}{d r} g{\\left(r \\right)}}{2 r g^{3}{\\left(r \\right)}} - \\frac{\\frac{d}{d r} f{\\left(r \\right)}}{2 r f{\\left(r \\right)} g^{2}{\\left(r \\right)}}\\end{matrix}\\right]$"
      ],
      "text/plain": [
       "[[-Derivative(f(r), (r, 2))/(2*f(r)*g(r)**2) + Derivative(f(r), r)*Derivative(g(r), r)/(2*f(r)*g(r)**3) + 1/(2*r**2) - 1/(2*r**2*g(r)**2), 0, 0], [0, Derivative(g(r), r)/(2*r*g(r)**3) - Derivative(f(r), r)/(2*r*f(r)*g(r)**2), 0], [0, 0, Derivative(g(r), r)/(2*r*g(r)**3) - Derivative(f(r), r)/(2*r*f(r)*g(r)**2)]]"
      ]
     },
     "metadata": {},
     "output_type": "display_data"
    },
    {
     "name": "stdout",
     "output_type": "stream",
     "text": [
      "Self-Dual Ricci\n"
     ]
    },
    {
     "data": {
      "text/latex": [
       "$\\displaystyle \\left[\\begin{matrix}- \\frac{\\frac{d^{2}}{d r^{2}} f{\\left(r \\right)}}{2 f{\\left(r \\right)} g^{2}{\\left(r \\right)}} + \\frac{\\frac{d}{d r} f{\\left(r \\right)} \\frac{d}{d r} g{\\left(r \\right)}}{2 f{\\left(r \\right)} g^{3}{\\left(r \\right)}} - \\frac{1}{2 r^{2}} + \\frac{1}{2 r^{2} g^{2}{\\left(r \\right)}} & 0 & 0\\\\0 & - \\frac{\\frac{d}{d r} g{\\left(r \\right)}}{2 r g^{3}{\\left(r \\right)}} - \\frac{\\frac{d}{d r} f{\\left(r \\right)}}{2 r f{\\left(r \\right)} g^{2}{\\left(r \\right)}} & 0\\\\0 & 0 & - \\frac{\\frac{d}{d r} g{\\left(r \\right)}}{2 r g^{3}{\\left(r \\right)}} - \\frac{\\frac{d}{d r} f{\\left(r \\right)}}{2 r f{\\left(r \\right)} g^{2}{\\left(r \\right)}}\\end{matrix}\\right]$"
      ],
      "text/plain": [
       "[[-Derivative(f(r), (r, 2))/(2*f(r)*g(r)**2) + Derivative(f(r), r)*Derivative(g(r), r)/(2*f(r)*g(r)**3) - 1/(2*r**2) + 1/(2*r**2*g(r)**2), 0, 0], [0, -Derivative(g(r), r)/(2*r*g(r)**3) - Derivative(f(r), r)/(2*r*f(r)*g(r)**2), 0], [0, 0, -Derivative(g(r), r)/(2*r*g(r)**3) - Derivative(f(r), r)/(2*r*f(r)*g(r)**2)]]"
      ]
     },
     "metadata": {},
     "output_type": "display_data"
    }
   ],
   "source": [
    "import sys\n",
    "import os\n",
    "\n",
    "try:\n",
    "    from diffform import *\n",
    "except ImportError as e:\n",
    "    sys.path.append(os.getcwd()+'/..')\n",
    "    from core import *\n",
    "\n",
    "\n",
    "from sympy import symbols, sin, Function, I, Array, permutedims, Eq, solve, cos, simplify, sqrt\n",
    "\n",
    "set_max_degree(4)\n",
    "\n",
    "coords = t,r,theta,phi = symbols(r\"t r \\theta \\phi\")\n",
    "basis = dt,dr,dtheta,dphi = d(t), d(r), d(theta), d(phi)\n",
    "\n",
    "# f = sqrt(1-1/r)\n",
    "f = Function(\"f\")(r)\n",
    "\n",
    "# g = 1/f\n",
    "g = Function(\"g\")(r)\n",
    "\n",
    "e0 = f*dt\n",
    "e1 = g*dr\n",
    "e2 = r*dtheta\n",
    "e3 = r*sin(theta)*dphi\n",
    "\n",
    "display(\"Tetrads\")\n",
    "display(e0)\n",
    "display(e1)\n",
    "display(e2)\n",
    "display(e3)\n",
    "print(\"\")\n",
    "\n",
    "S1 = I*e0*e1 - e2*e3\n",
    "S2 = I*e0*e2 - e3*e1\n",
    "S3 = I*e0*e3 - e1*e2\n",
    "\n",
    "AS1 = I*e0*e1 + e2*e3\n",
    "AS2 = I*e0*e2 + e3*e1\n",
    "AS3 = I*e0*e3 + e1*e2\n",
    "\n",
    "display(\"Self-Dual 2-forms\")\n",
    "display(S1)\n",
    "display(S2)\n",
    "display(S3)\n",
    "\n",
    "A_symbols = permutedims(Array([symbols(f\"A^{{1:4}}_{{{str(c)}}}\") for c in coords]),(1,0))\n",
    "\n",
    "A1 = sum([A_symbols[0,i]*basis[i] for i in range(4)])\n",
    "A2 = sum([A_symbols[1,i]*basis[i] for i in range(4)])\n",
    "A3 = sum([A_symbols[2,i]*basis[i] for i in range(4)])\n",
    "\n",
    "# A1 = I*f.diff(r)/g*dt + cos(theta)*dphi \n",
    "# A2 = -1/g * sin(theta) * dphi\n",
    "# A3 = 1/g * dtheta\n",
    "\n",
    "dAS1 = S1.d + A2*S3 - A3*S2\n",
    "dAS2 = S2.d + A3*S1 - A1*S3\n",
    "dAS3 = S3.d + A1*S2 - A2*S1\n",
    "\n",
    "dA_equations = [Eq(fa,0) for fa in dAS1.factors] + [Eq(fa,0) for fa in dAS2.factors] + [Eq(fa,0) for fa in dAS3.factors]\n",
    "\n",
    "A_sol = solve(dA_equations)\n",
    "\n",
    "A_solution = A_symbols.subs(A_sol[-1])\n",
    "\n",
    "A1 = sum([A_solution[0,i]*basis[i] for i in range(4)])\n",
    "A2 = sum([A_solution[1,i]*basis[i] for i in range(4)])\n",
    "A3 = sum([A_solution[2,i]*basis[i] for i in range(4)])\n",
    "\n",
    "print(\"\")\n",
    "print(\"Self-Dual Connection\")\n",
    "display(A1)\n",
    "display(A2)\n",
    "display(A3)\n",
    "\n",
    "F1 = A1.d + A2*A3\n",
    "F2 = A2.d + A3*A1\n",
    "F3 = A3.d + A1*A2\n",
    "\n",
    "F  = [F1,F2,F3]\n",
    "S  = [S1,S2,S3]\n",
    "AS = [AS1,AS2,AS3]\n",
    "\n",
    "psi_symbols = Array([[symbols(rf\"\\psi^{{{i+1}{j+1}}}\") for j in range(3)] for i in range(3)])\n",
    "R_symbols = Array([[symbols(rf\"R^{{{i+1}{j+1}}}\") for j in range(3)] for i in range(3)])\n",
    "\n",
    "psi_R_symbols = []\n",
    "for i in range(3):\n",
    "    for j in range(3):\n",
    "        psi_R_symbols.append(psi_symbols[i,j])\n",
    "        psi_R_symbols.append(R_symbols[i,j])\n",
    "\n",
    "F_PS_RAS = [ F[i] - sum([ psi_symbols[i,j]*S[j] + R_symbols[i,j]*AS[j] for j in range(3)]) for i in range(3)]\n",
    "\n",
    "psi_R_equations = []\n",
    "for ps in F_PS_RAS:\n",
    "    for  fa in ps.factors:\n",
    "        psi_R_equations.append(Eq(fa,0))\n",
    "    \n",
    "psi_R_sols = solve(psi_R_equations,psi_R_symbols)\n",
    "\n",
    "R_solution   = R_symbols.subs(psi_R_sols)\n",
    "psi_solution = psi_symbols.subs(psi_R_sols)\n",
    "\n",
    "print(\"\")\n",
    "print(\"Self-Dual Weyl\")\n",
    "display(psi_solution)\n",
    "print(\"Self-Dual Ricci\")\n",
    "display(R_solution)"
   ]
  },
  {
   "cell_type": "code",
   "execution_count": 3,
   "metadata": {},
   "outputs": [
    {
     "data": {
      "text/latex": [
       "$(\\frac{1}{z^{2}})d\\left(z\\right) \\wedge d\\left(\\alpha\\right)+(\\frac{w e^{u} \\partial_{z} u}{z^{2}} - \\frac{2 w e^{u}}{z^{3}} + \\frac{e^{u} \\partial_{z} w}{z^{2}})d\\left(z\\right) \\wedge d\\left(y\\right) \\wedge d\\left(x\\right)$"
      ],
      "text/plain": [
       "<core.DifferentialFormMul at 0x7fa2fcb02690>"
      ]
     },
     "metadata": {},
     "output_type": "display_data"
    },
    {
     "data": {
      "text/latex": [
       "$(- \\partial_{x} w)d\\left(z\\right) \\wedge d\\left(y\\right)+(\\partial_{y} w)d\\left(z\\right) \\wedge d\\left(x\\right)+(- \\frac{w e^{\\frac{u}{2}} \\partial_{z} u}{2} - e^{\\frac{u}{2}} \\partial_{z} w)d\\left(y\\right) \\wedge d\\left(x\\right)$"
      ],
      "text/plain": [
       "<core.DifferentialFormMul at 0x7fa2f4e08d90>"
      ]
     },
     "metadata": {},
     "output_type": "display_data"
    },
    {
     "name": "stdout",
     "output_type": "stream",
     "text": [
      "[[$\\displaystyle d\\left(z\\right)$, $\\displaystyle d\\left(\\alpha\\right)$], [$\\displaystyle d\\left(z\\right)$, $\\displaystyle d\\left(y\\right)$, $\\displaystyle d\\left(x\\right)$]]\n"
     ]
    },
    {
     "ename": "SympifyError",
     "evalue": "SympifyError: $\\displaystyle d\\left(\\alpha\\right)$",
     "output_type": "error",
     "traceback": [
      "\u001b[0;31m---------------------------------------------------------------------------\u001b[0m",
      "\u001b[0;31mSympifyError\u001b[0m                              Traceback (most recent call last)",
      "\u001b[1;32m/mnt/HDD(0)/Documents/WorkSpace - Python/Differential-Forms/diffform/tests/test.ipynb Cell 2\u001b[0m line \u001b[0;36m3\n\u001b[1;32m     <a href='vscode-notebook-cell:/mnt/HDD%280%29/Documents/WorkSpace%20-%20Python/Differential-Forms/diffform/tests/test.ipynb#W1sZmlsZQ%3D%3D?line=30'>31</a>\u001b[0m display(S1\u001b[39m.\u001b[39md)\n\u001b[1;32m     <a href='vscode-notebook-cell:/mnt/HDD%280%29/Documents/WorkSpace%20-%20Python/Differential-Forms/diffform/tests/test.ipynb#W1sZmlsZQ%3D%3D?line=31'>32</a>\u001b[0m display(d_alpha)\n\u001b[0;32m---> <a href='vscode-notebook-cell:/mnt/HDD%280%29/Documents/WorkSpace%20-%20Python/Differential-Forms/diffform/tests/test.ipynb#W1sZmlsZQ%3D%3D?line=33'>34</a>\u001b[0m (S1\u001b[39m.\u001b[39;49md)\u001b[39m.\u001b[39;49msubs(alpha\u001b[39m.\u001b[39;49md,\u001b[39m0\u001b[39;49m)\n",
      "File \u001b[0;32m/mnt/HDD(0)/Documents/WorkSpace - Python/Differential-Forms/diffform/tests/../core.py:435\u001b[0m, in \u001b[0;36mDifferentialFormMul.subs\u001b[0;34m(self, target, sub)\u001b[0m\n\u001b[1;32m    433\u001b[0m \u001b[39mfor\u001b[39;00m i \u001b[39min\u001b[39;00m \u001b[39mrange\u001b[39m(\u001b[39mlen\u001b[39m(\u001b[39mself\u001b[39m\u001b[39m.\u001b[39mfactors)):\n\u001b[1;32m    434\u001b[0m     \u001b[39mif\u001b[39;00m \u001b[39mnot\u001b[39;00m \u001b[39misinstance\u001b[39m(sub,DifferentialForm) \u001b[39mand\u001b[39;00m \u001b[39mnot\u001b[39;00m \u001b[39misinstance\u001b[39m(sub,DifferentialFormMul):\n\u001b[0;32m--> 435\u001b[0m         ret\u001b[39m.\u001b[39mfactors[i] \u001b[39m=\u001b[39m ret\u001b[39m.\u001b[39;49mfactors[i]\u001b[39m.\u001b[39;49msubs(target,sub)\n\u001b[1;32m    437\u001b[0m ret\u001b[39m.\u001b[39mremove_squares()\n\u001b[1;32m    438\u001b[0m ret\u001b[39m.\u001b[39mremove_above_top()\n",
      "File \u001b[0;32m~/.var/app/com.vscodium.codium/data/python/lib/python3.11/site-packages/sympy/core/basic.py:991\u001b[0m, in \u001b[0;36mBasic.subs\u001b[0;34m(self, *args, **kwargs)\u001b[0m\n\u001b[1;32m    988\u001b[0m     \u001b[39melse\u001b[39;00m:\n\u001b[1;32m    989\u001b[0m         \u001b[39mreturn\u001b[39;00m sympify(new, strict\u001b[39m=\u001b[39m\u001b[39mTrue\u001b[39;00m)\n\u001b[0;32m--> 991\u001b[0m sequence \u001b[39m=\u001b[39m [(sympify_old(s1), sympify_new(s2)) \u001b[39mfor\u001b[39;49;00m s1, s2 \u001b[39min\u001b[39;49;00m sequence]\n\u001b[1;32m    993\u001b[0m \u001b[39m# skip if there is no change\u001b[39;00m\n\u001b[1;32m    994\u001b[0m sequence \u001b[39m=\u001b[39m [(s1, s2) \u001b[39mfor\u001b[39;00m s1, s2 \u001b[39min\u001b[39;00m sequence \u001b[39mif\u001b[39;00m \u001b[39mnot\u001b[39;00m _aresame(s1, s2)]\n",
      "File \u001b[0;32m~/.var/app/com.vscodium.codium/data/python/lib/python3.11/site-packages/sympy/core/basic.py:991\u001b[0m, in \u001b[0;36m<listcomp>\u001b[0;34m(.0)\u001b[0m\n\u001b[1;32m    988\u001b[0m     \u001b[39melse\u001b[39;00m:\n\u001b[1;32m    989\u001b[0m         \u001b[39mreturn\u001b[39;00m sympify(new, strict\u001b[39m=\u001b[39m\u001b[39mTrue\u001b[39;00m)\n\u001b[0;32m--> 991\u001b[0m sequence \u001b[39m=\u001b[39m [(sympify_old(s1), sympify_new(s2)) \u001b[39mfor\u001b[39;00m s1, s2 \u001b[39min\u001b[39;00m sequence]\n\u001b[1;32m    993\u001b[0m \u001b[39m# skip if there is no change\u001b[39;00m\n\u001b[1;32m    994\u001b[0m sequence \u001b[39m=\u001b[39m [(s1, s2) \u001b[39mfor\u001b[39;00m s1, s2 \u001b[39min\u001b[39;00m sequence \u001b[39mif\u001b[39;00m \u001b[39mnot\u001b[39;00m _aresame(s1, s2)]\n",
      "File \u001b[0;32m~/.var/app/com.vscodium.codium/data/python/lib/python3.11/site-packages/sympy/core/basic.py:982\u001b[0m, in \u001b[0;36mBasic.subs.<locals>.sympify_old\u001b[0;34m(old)\u001b[0m\n\u001b[1;32m    980\u001b[0m     \u001b[39mreturn\u001b[39;00m sympify(old, strict\u001b[39m=\u001b[39m\u001b[39mFalse\u001b[39;00m)\n\u001b[1;32m    981\u001b[0m \u001b[39melse\u001b[39;00m:\n\u001b[0;32m--> 982\u001b[0m     \u001b[39mreturn\u001b[39;00m sympify(old, strict\u001b[39m=\u001b[39;49m\u001b[39mTrue\u001b[39;49;00m)\n",
      "File \u001b[0;32m~/.var/app/com.vscodium.codium/data/python/lib/python3.11/site-packages/sympy/core/sympify.py:449\u001b[0m, in \u001b[0;36msympify\u001b[0;34m(a, locals, convert_xor, strict, rational, evaluate)\u001b[0m\n\u001b[1;32m    446\u001b[0m                 \u001b[39mcontinue\u001b[39;00m\n\u001b[1;32m    448\u001b[0m \u001b[39mif\u001b[39;00m strict:\n\u001b[0;32m--> 449\u001b[0m     \u001b[39mraise\u001b[39;00m SympifyError(a)\n\u001b[1;32m    451\u001b[0m \u001b[39mif\u001b[39;00m iterable(a):\n\u001b[1;32m    452\u001b[0m     \u001b[39mtry\u001b[39;00m:\n",
      "\u001b[0;31mSympifyError\u001b[0m: SympifyError: $\\displaystyle d\\left(\\alpha\\right)$"
     ]
    }
   ],
   "source": [
    "import sys\n",
    "import os\n",
    "\n",
    "try:\n",
    "    from diffform import *\n",
    "except ImportError as e:\n",
    "    sys.path.append(os.getcwd()+'/..')\n",
    "    from core import *\n",
    "\n",
    "from sympy import symbols, sin, Function, I, Array, permutedims, Eq, solve, cos, simplify, sqrt,exp\n",
    "\n",
    "set_max_degree(4)\n",
    "\n",
    "coords = a,x,y,z = symbols(r\"\\alpha x y z\")\n",
    "basis = alpha,dx,dy,dz = DifferentialForm(a,1),d(x),d(y),d(z)\n",
    "\n",
    "w = Function(\"w\")(x,y,z)\n",
    "u = Function(\"u\")(x,y,z)\n",
    "\n",
    "d_alpha = w.diff(x)*dy*dz + w.diff(y)*dz*dx + (exp(u/2)*w).diff(z)*dx*dy\n",
    "\n",
    "e0 = 1/(z*sqrt(w))*alpha\n",
    "e1 = sqrt(w)/z*dz\n",
    "e2 = exp(u/2)*sqrt(w)/z*dx\n",
    "e3 = exp(u/2)*sqrt(w)/z*dy\n",
    "\n",
    "S1 = e0*e1-e2*e3\n",
    "S2 = e0*e2-e3*e1\n",
    "S3 = e0*e3-e1*e2\n",
    "\n",
    "display(S1.d)\n",
    "display(d_alpha)\n",
    "\n",
    "(S1.d).subs(alpha.d,d_alpha)\n",
    "\n"
   ]
  },
  {
   "cell_type": "code",
   "execution_count": 4,
   "metadata": {},
   "outputs": [
    {
     "data": {
      "text/latex": [
       "$0$"
      ],
      "text/plain": [
       "<core.DifferentialFormMul at 0x7f9c48a296a0>"
      ]
     },
     "execution_count": 4,
     "metadata": {},
     "output_type": "execute_result"
    }
   ],
   "source": [
    "import sys\n",
    "import os\n",
    "\n",
    "try:\n",
    "    from diffform import *\n",
    "except ImportError as e:\n",
    "    sys.path.append(os.getcwd()+'/..')\n",
    "    from core import *\n",
    "\n",
    "alpha = DifferentialForm(symbols(r\"\\alpha\"),1)\n",
    "x,y,z = [DifferentialForm(c,0) for c in symbols(r\"x y z\")]\n",
    "\n",
    "dx,dy,dz = d(x),d(y),d(z)\n",
    "\n",
    "test = d(alpha)*dx\n",
    "\n",
    "test = test.subs(d(alpha),alpha*dy)\n",
    "\n",
    "test"
   ]
  },
  {
   "cell_type": "code",
   "execution_count": null,
   "metadata": {},
   "outputs": [],
   "source": []
  },
  {
   "cell_type": "code",
   "execution_count": null,
   "metadata": {},
   "outputs": [],
   "source": []
  }
 ],
 "metadata": {
  "kernelspec": {
   "display_name": "Python 3",
   "language": "python",
   "name": "python3"
  },
  "language_info": {
   "codemirror_mode": {
    "name": "ipython",
    "version": 3
   },
   "file_extension": ".py",
   "mimetype": "text/x-python",
   "name": "python",
   "nbconvert_exporter": "python",
   "pygments_lexer": "ipython3",
   "version": "3.12.2"
  }
 },
 "nbformat": 4,
 "nbformat_minor": 2
}
