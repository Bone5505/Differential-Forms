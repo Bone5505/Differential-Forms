{
 "cells": [
  {
   "cell_type": "code",
   "execution_count": null,
   "metadata": {},
   "outputs": [],
   "source": [
    "from DiffPyTest import DifferentialForm, bubble_tester\n",
    "from sympy import *\n",
    "\n",
    "omega, alpha, beta, gamma = symbols(r\"\\omega \\alpha \\beta \\gamma\")\n",
    "w = DifferentialForm(omega,1)\n",
    "a = DifferentialForm(alpha,2)\n",
    "b = DifferentialForm(beta, 3)\n",
    "g = DifferentialForm(gamma,4)\n",
    "\n",
    "forward = a*w*b*g\n",
    "bakward = g*a*w*b\n",
    "\n",
    "display(forward)\n",
    "display(bakward)\n",
    "display(forward+bakward)"
   ]
  },
  {
   "cell_type": "code",
   "execution_count": 47,
   "metadata": {},
   "outputs": [
    {
     "data": {
      "text/plain": [
       "'Tetrads'"
      ]
     },
     "metadata": {},
     "output_type": "display_data"
    },
    {
     "data": {
      "text/latex": [
       "$(\\sqrt{1 - \\frac{1}{r}})dt$"
      ],
      "text/plain": [
       "<DiffPy.DifferentialFormMul at 0x7fa631ba1010>"
      ]
     },
     "metadata": {},
     "output_type": "display_data"
    },
    {
     "data": {
      "text/latex": [
       "$(\\frac{1}{\\sqrt{1 - \\frac{1}{r}}})dr$"
      ],
      "text/plain": [
       "<DiffPy.DifferentialFormMul at 0x7fa631ba3440>"
      ]
     },
     "metadata": {},
     "output_type": "display_data"
    },
    {
     "data": {
      "text/latex": [
       "$(r)d\\theta$"
      ],
      "text/plain": [
       "<DiffPy.DifferentialFormMul at 0x7fa63193b230>"
      ]
     },
     "metadata": {},
     "output_type": "display_data"
    },
    {
     "data": {
      "text/latex": [
       "$(r \\sin{\\left(\\theta \\right)})d\\phi$"
      ],
      "text/plain": [
       "<DiffPy.DifferentialFormMul at 0x7fa632b83530>"
      ]
     },
     "metadata": {},
     "output_type": "display_data"
    },
    {
     "name": "stdout",
     "output_type": "stream",
     "text": [
      "\n"
     ]
    },
    {
     "data": {
      "text/plain": [
       "'Self-Dual 2-forms'"
      ]
     },
     "metadata": {},
     "output_type": "display_data"
    },
    {
     "data": {
      "text/latex": [
       "$(i)dt \\wedge dr+(- r^{2} \\sin{\\left(\\theta \\right)})d\\theta \\wedge d\\phi$"
      ],
      "text/plain": [
       "<DiffPy.DifferentialFormMul at 0x7fa6321cfc80>"
      ]
     },
     "metadata": {},
     "output_type": "display_data"
    },
    {
     "data": {
      "text/latex": [
       "$(i r \\sqrt{1 - \\frac{1}{r}})dt \\wedge d\\theta+(\\frac{r \\sin{\\left(\\theta \\right)}}{\\sqrt{1 - \\frac{1}{r}}})dr \\wedge d\\phi$"
      ],
      "text/plain": [
       "<DiffPy.DifferentialFormMul at 0x7fa6320e97f0>"
      ]
     },
     "metadata": {},
     "output_type": "display_data"
    },
    {
     "data": {
      "text/latex": [
       "$(i r \\sqrt{1 - \\frac{1}{r}} \\sin{\\left(\\theta \\right)})dt \\wedge d\\phi+(- \\frac{r}{\\sqrt{1 - \\frac{1}{r}}})dr \\wedge d\\theta$"
      ],
      "text/plain": [
       "<DiffPy.DifferentialFormMul at 0x7fa631020950>"
      ]
     },
     "metadata": {},
     "output_type": "display_data"
    },
    {
     "ename": "KeyboardInterrupt",
     "evalue": "",
     "output_type": "error",
     "traceback": [
      "\u001b[0;31m---------------------------------------------------------------------------\u001b[0m",
      "\u001b[0;31mKeyboardInterrupt\u001b[0m                         Traceback (most recent call last)",
      "\u001b[1;32m/home/adam/Programming/Python/Differential Forms/test.ipynb Cell 2\u001b[0m line \u001b[0;36m5\n\u001b[1;32m     <a href='vscode-notebook-cell:/home/adam/Programming/Python/Differential%20Forms/test.ipynb#W1sZmlsZQ%3D%3D?line=52'>53</a>\u001b[0m dAS3 \u001b[39m=\u001b[39m S3\u001b[39m.\u001b[39md \u001b[39m+\u001b[39m A1\u001b[39m*\u001b[39mS2 \u001b[39m-\u001b[39m A2\u001b[39m*\u001b[39mS1\n\u001b[1;32m     <a href='vscode-notebook-cell:/home/adam/Programming/Python/Differential%20Forms/test.ipynb#W1sZmlsZQ%3D%3D?line=54'>55</a>\u001b[0m dA_equations \u001b[39m=\u001b[39m [Eq(fa,\u001b[39m0\u001b[39m) \u001b[39mfor\u001b[39;00m fa \u001b[39min\u001b[39;00m dAS1\u001b[39m.\u001b[39mfactors] \u001b[39m+\u001b[39m [Eq(fa,\u001b[39m0\u001b[39m) \u001b[39mfor\u001b[39;00m fa \u001b[39min\u001b[39;00m dAS2\u001b[39m.\u001b[39mfactors] \u001b[39m+\u001b[39m [Eq(fa,\u001b[39m0\u001b[39m) \u001b[39mfor\u001b[39;00m fa \u001b[39min\u001b[39;00m dAS3\u001b[39m.\u001b[39mfactors]\n\u001b[0;32m---> <a href='vscode-notebook-cell:/home/adam/Programming/Python/Differential%20Forms/test.ipynb#W1sZmlsZQ%3D%3D?line=56'>57</a>\u001b[0m A_sol \u001b[39m=\u001b[39m solve(dA_equations)\n\u001b[1;32m     <a href='vscode-notebook-cell:/home/adam/Programming/Python/Differential%20Forms/test.ipynb#W1sZmlsZQ%3D%3D?line=58'>59</a>\u001b[0m A_solution \u001b[39m=\u001b[39m A_symbols\u001b[39m.\u001b[39msubs(A_sol[\u001b[39m-\u001b[39m\u001b[39m1\u001b[39m])\n\u001b[1;32m     <a href='vscode-notebook-cell:/home/adam/Programming/Python/Differential%20Forms/test.ipynb#W1sZmlsZQ%3D%3D?line=60'>61</a>\u001b[0m A1 \u001b[39m=\u001b[39m \u001b[39msum\u001b[39m([A_solution[\u001b[39m0\u001b[39m,i]\u001b[39m*\u001b[39mbasis[i] \u001b[39mfor\u001b[39;00m i \u001b[39min\u001b[39;00m \u001b[39mrange\u001b[39m(\u001b[39m4\u001b[39m)])\n",
      "File \u001b[0;32m~/.local/lib/python3.12/site-packages/sympy/solvers/solvers.py:1147\u001b[0m, in \u001b[0;36msolve\u001b[0;34m(f, *symbols, **flags)\u001b[0m\n\u001b[1;32m   1145\u001b[0m         solution \u001b[39m=\u001b[39m _solve(f[\u001b[39m0\u001b[39m], \u001b[39m*\u001b[39msymbols, \u001b[39m*\u001b[39m\u001b[39m*\u001b[39mflags)\n\u001b[1;32m   1146\u001b[0m \u001b[39melse\u001b[39;00m:\n\u001b[0;32m-> 1147\u001b[0m     linear, solution \u001b[39m=\u001b[39m _solve_system(f, symbols, \u001b[39m*\u001b[39;49m\u001b[39m*\u001b[39;49mflags)\n\u001b[1;32m   1148\u001b[0m \u001b[39massert\u001b[39;00m \u001b[39mtype\u001b[39m(solution) \u001b[39mis\u001b[39;00m \u001b[39mlist\u001b[39m\n\u001b[1;32m   1149\u001b[0m \u001b[39massert\u001b[39;00m \u001b[39mnot\u001b[39;00m solution \u001b[39mor\u001b[39;00m \u001b[39mtype\u001b[39m(solution[\u001b[39m0\u001b[39m]) \u001b[39mis\u001b[39;00m \u001b[39mdict\u001b[39m, solution\n",
      "File \u001b[0;32m~/.local/lib/python3.12/site-packages/sympy/solvers/solvers.py:1934\u001b[0m, in \u001b[0;36m_solve_system\u001b[0;34m(exprs, symbols, **flags)\u001b[0m\n\u001b[1;32m   1932\u001b[0m \u001b[39mfor\u001b[39;00m s \u001b[39min\u001b[39;00m ok_syms:\n\u001b[1;32m   1933\u001b[0m     \u001b[39mtry\u001b[39;00m:\n\u001b[0;32m-> 1934\u001b[0m         soln \u001b[39m=\u001b[39m _vsolve(eq2, s, \u001b[39m*\u001b[39;49m\u001b[39m*\u001b[39;49mflags)\n\u001b[1;32m   1935\u001b[0m     \u001b[39mexcept\u001b[39;00m \u001b[39mNotImplementedError\u001b[39;00m:\n\u001b[1;32m   1936\u001b[0m         \u001b[39mcontinue\u001b[39;00m\n",
      "File \u001b[0;32m~/.local/lib/python3.12/site-packages/sympy/solvers/solvers.py:2606\u001b[0m, in \u001b[0;36m_vsolve\u001b[0;34m(e, s, **flags)\u001b[0m\n\u001b[1;32m   2604\u001b[0m \u001b[39mdef\u001b[39;00m \u001b[39m_vsolve\u001b[39m(e, s, \u001b[39m*\u001b[39m\u001b[39m*\u001b[39mflags):\n\u001b[1;32m   2605\u001b[0m \u001b[39m    \u001b[39m\u001b[39m\"\"\"return list of scalar values for the solution of e for symbol s\"\"\"\u001b[39;00m\n\u001b[0;32m-> 2606\u001b[0m     \u001b[39mreturn\u001b[39;00m [i[s] \u001b[39mfor\u001b[39;00m i \u001b[39min\u001b[39;00m _solve(e, s, \u001b[39m*\u001b[39;49m\u001b[39m*\u001b[39;49mflags)]\n",
      "File \u001b[0;32m~/.local/lib/python3.12/site-packages/sympy/solvers/solvers.py:1670\u001b[0m, in \u001b[0;36m_solve\u001b[0;34m(f, *symbols, **flags)\u001b[0m\n\u001b[1;32m   1668\u001b[0m \u001b[39melse\u001b[39;00m:\n\u001b[1;32m   1669\u001b[0m     \u001b[39mtry\u001b[39;00m:\n\u001b[0;32m-> 1670\u001b[0m         rv \u001b[39m=\u001b[39m \u001b[39mset\u001b[39m(_vsolve(eq, symbol, \u001b[39m*\u001b[39;49m\u001b[39m*\u001b[39;49mflags))\n\u001b[1;32m   1671\u001b[0m     \u001b[39mexcept\u001b[39;00m \u001b[39mNotImplementedError\u001b[39;00m:\n\u001b[1;32m   1672\u001b[0m         rv \u001b[39m=\u001b[39m \u001b[39mNone\u001b[39;00m\n",
      "File \u001b[0;32m~/.local/lib/python3.12/site-packages/sympy/solvers/solvers.py:2606\u001b[0m, in \u001b[0;36m_vsolve\u001b[0;34m(e, s, **flags)\u001b[0m\n\u001b[1;32m   2604\u001b[0m \u001b[39mdef\u001b[39;00m \u001b[39m_vsolve\u001b[39m(e, s, \u001b[39m*\u001b[39m\u001b[39m*\u001b[39mflags):\n\u001b[1;32m   2605\u001b[0m \u001b[39m    \u001b[39m\u001b[39m\"\"\"return list of scalar values for the solution of e for symbol s\"\"\"\u001b[39;00m\n\u001b[0;32m-> 2606\u001b[0m     \u001b[39mreturn\u001b[39;00m [i[s] \u001b[39mfor\u001b[39;00m i \u001b[39min\u001b[39;00m _solve(e, s, \u001b[39m*\u001b[39;49m\u001b[39m*\u001b[39;49mflags)]\n",
      "File \u001b[0;32m~/.local/lib/python3.12/site-packages/sympy/solvers/solvers.py:1383\u001b[0m, in \u001b[0;36m_solve\u001b[0;34m(f, *symbols, **flags)\u001b[0m\n\u001b[1;32m   1377\u001b[0m \u001b[39mif\u001b[39;00m check:\n\u001b[1;32m   1378\u001b[0m     \u001b[39m# all solutions have been checked but now we must\u001b[39;00m\n\u001b[1;32m   1379\u001b[0m     \u001b[39m# check that the solutions do not set denominators\u001b[39;00m\n\u001b[1;32m   1380\u001b[0m     \u001b[39m# in any factor to zero\u001b[39;00m\n\u001b[1;32m   1381\u001b[0m     dens \u001b[39m=\u001b[39m flags\u001b[39m.\u001b[39mget(\u001b[39m'\u001b[39m\u001b[39m_denominators\u001b[39m\u001b[39m'\u001b[39m, _simple_dens(f, symbols))\n\u001b[1;32m   1382\u001b[0m     result \u001b[39m=\u001b[39m [s \u001b[39mfor\u001b[39;00m s \u001b[39min\u001b[39;00m result \u001b[39mif\u001b[39;00m\n\u001b[0;32m-> 1383\u001b[0m         \u001b[39mnot\u001b[39;00m \u001b[39many\u001b[39;49m(checksol(den, s, \u001b[39m*\u001b[39;49m\u001b[39m*\u001b[39;49mflags) \u001b[39mfor\u001b[39;49;00m den \u001b[39min\u001b[39;49;00m\n\u001b[1;32m   1384\u001b[0m                 dens)]\n\u001b[1;32m   1385\u001b[0m \u001b[39m# set flags for quick exit at end; solutions for each\u001b[39;00m\n\u001b[1;32m   1386\u001b[0m \u001b[39m# factor were already checked and simplified\u001b[39;00m\n\u001b[1;32m   1387\u001b[0m check \u001b[39m=\u001b[39m \u001b[39mFalse\u001b[39;00m\n",
      "File \u001b[0;32m~/.local/lib/python3.12/site-packages/sympy/solvers/solvers.py:1383\u001b[0m, in \u001b[0;36m<genexpr>\u001b[0;34m(.0)\u001b[0m\n\u001b[1;32m   1377\u001b[0m \u001b[39mif\u001b[39;00m check:\n\u001b[1;32m   1378\u001b[0m     \u001b[39m# all solutions have been checked but now we must\u001b[39;00m\n\u001b[1;32m   1379\u001b[0m     \u001b[39m# check that the solutions do not set denominators\u001b[39;00m\n\u001b[1;32m   1380\u001b[0m     \u001b[39m# in any factor to zero\u001b[39;00m\n\u001b[1;32m   1381\u001b[0m     dens \u001b[39m=\u001b[39m flags\u001b[39m.\u001b[39mget(\u001b[39m'\u001b[39m\u001b[39m_denominators\u001b[39m\u001b[39m'\u001b[39m, _simple_dens(f, symbols))\n\u001b[1;32m   1382\u001b[0m     result \u001b[39m=\u001b[39m [s \u001b[39mfor\u001b[39;00m s \u001b[39min\u001b[39;00m result \u001b[39mif\u001b[39;00m\n\u001b[0;32m-> 1383\u001b[0m         \u001b[39mnot\u001b[39;00m \u001b[39many\u001b[39m(checksol(den, s, \u001b[39m*\u001b[39;49m\u001b[39m*\u001b[39;49mflags) \u001b[39mfor\u001b[39;00m den \u001b[39min\u001b[39;00m\n\u001b[1;32m   1384\u001b[0m                 dens)]\n\u001b[1;32m   1385\u001b[0m \u001b[39m# set flags for quick exit at end; solutions for each\u001b[39;00m\n\u001b[1;32m   1386\u001b[0m \u001b[39m# factor were already checked and simplified\u001b[39;00m\n\u001b[1;32m   1387\u001b[0m check \u001b[39m=\u001b[39m \u001b[39mFalse\u001b[39;00m\n",
      "File \u001b[0;32m~/.local/lib/python3.12/site-packages/sympy/solvers/solvers.py:310\u001b[0m, in \u001b[0;36mchecksol\u001b[0;34m(f, symbol, sol, **flags)\u001b[0m\n\u001b[1;32m    307\u001b[0m         sol[k] \u001b[39m=\u001b[39m simplify(sol[k])\n\u001b[1;32m    308\u001b[0m \u001b[39m# start over without the failed expanded form, possibly\u001b[39;00m\n\u001b[1;32m    309\u001b[0m \u001b[39m# with a simplified solution\u001b[39;00m\n\u001b[0;32m--> 310\u001b[0m val \u001b[39m=\u001b[39m simplify(f\u001b[39m.\u001b[39;49msubs(sol))\n\u001b[1;32m    311\u001b[0m \u001b[39mif\u001b[39;00m flags\u001b[39m.\u001b[39mget(\u001b[39m'\u001b[39m\u001b[39mforce\u001b[39m\u001b[39m'\u001b[39m, \u001b[39mTrue\u001b[39;00m):\n\u001b[1;32m    312\u001b[0m     val, reps \u001b[39m=\u001b[39m posify(val)\n",
      "File \u001b[0;32m~/.local/lib/python3.12/site-packages/sympy/simplify/simplify.py:679\u001b[0m, in \u001b[0;36msimplify\u001b[0;34m(expr, ratio, measure, rational, inverse, doit, **kwargs)\u001b[0m\n\u001b[1;32m    675\u001b[0m \u001b[39m# Still a Piecewise?\u001b[39;00m\n\u001b[1;32m    676\u001b[0m \u001b[39mif\u001b[39;00m expr\u001b[39m.\u001b[39mhas(Piecewise):\n\u001b[1;32m    677\u001b[0m     \u001b[39m# Do not apply doit on the segments as it has already\u001b[39;00m\n\u001b[1;32m    678\u001b[0m     \u001b[39m# been done above, but simplify\u001b[39;00m\n\u001b[0;32m--> 679\u001b[0m     expr \u001b[39m=\u001b[39m piecewise_simplify(expr, deep\u001b[39m=\u001b[39;49m\u001b[39mTrue\u001b[39;49;00m, doit\u001b[39m=\u001b[39;49m\u001b[39mFalse\u001b[39;49;00m)\n\u001b[1;32m    680\u001b[0m     \u001b[39m# Still a Piecewise?\u001b[39;00m\n\u001b[1;32m    681\u001b[0m     \u001b[39mif\u001b[39;00m expr\u001b[39m.\u001b[39mhas(Piecewise):\n\u001b[1;32m    682\u001b[0m         \u001b[39m# Try factor common terms\u001b[39;00m\n",
      "File \u001b[0;32m~/.local/lib/python3.12/site-packages/sympy/functions/elementary/piecewise.py:1334\u001b[0m, in \u001b[0;36mpiecewise_simplify\u001b[0;34m(expr, **kwargs)\u001b[0m\n\u001b[1;32m   1333\u001b[0m \u001b[39mdef\u001b[39;00m \u001b[39mpiecewise_simplify\u001b[39m(expr, \u001b[39m*\u001b[39m\u001b[39m*\u001b[39mkwargs):\n\u001b[0;32m-> 1334\u001b[0m     expr \u001b[39m=\u001b[39m piecewise_simplify_arguments(expr, \u001b[39m*\u001b[39;49m\u001b[39m*\u001b[39;49mkwargs)\n\u001b[1;32m   1335\u001b[0m     \u001b[39mif\u001b[39;00m \u001b[39mnot\u001b[39;00m \u001b[39misinstance\u001b[39m(expr, Piecewise):\n\u001b[1;32m   1336\u001b[0m         \u001b[39mreturn\u001b[39;00m expr\n",
      "File \u001b[0;32m~/.local/lib/python3.12/site-packages/sympy/functions/elementary/piecewise.py:1222\u001b[0m, in \u001b[0;36mpiecewise_simplify_arguments\u001b[0;34m(expr, **kwargs)\u001b[0m\n\u001b[1;32m   1218\u001b[0m e, c  \u001b[39m=\u001b[39m args[i]\n\u001b[1;32m   1219\u001b[0m \u001b[39mif\u001b[39;00m \u001b[39misinstance\u001b[39m(e, Basic):\n\u001b[1;32m   1220\u001b[0m     \u001b[39m# Skip doit to avoid growth at every call for some integrals\u001b[39;00m\n\u001b[1;32m   1221\u001b[0m     \u001b[39m# and sums, see sympy/sympy#17165\u001b[39;00m\n\u001b[0;32m-> 1222\u001b[0m     newe \u001b[39m=\u001b[39m simplify(e, doit\u001b[39m=\u001b[39;49m\u001b[39mFalse\u001b[39;49;00m, \u001b[39m*\u001b[39;49m\u001b[39m*\u001b[39;49mkwargs)\n\u001b[1;32m   1223\u001b[0m     \u001b[39mif\u001b[39;00m newe \u001b[39m!=\u001b[39m e:\n\u001b[1;32m   1224\u001b[0m         e \u001b[39m=\u001b[39m newe\n",
      "File \u001b[0;32m~/.local/lib/python3.12/site-packages/sympy/simplify/simplify.py:725\u001b[0m, in \u001b[0;36msimplify\u001b[0;34m(expr, ratio, measure, rational, inverse, doit, **kwargs)\u001b[0m\n\u001b[1;32m    722\u001b[0m     \u001b[39mfrom\u001b[39;00m \u001b[39msympy\u001b[39;00m\u001b[39m.\u001b[39;00m\u001b[39mphysics\u001b[39;00m\u001b[39m.\u001b[39;00m\u001b[39munits\u001b[39;00m\u001b[39m.\u001b[39;00m\u001b[39mutil\u001b[39;00m \u001b[39mimport\u001b[39;00m quantity_simplify\n\u001b[1;32m    723\u001b[0m     expr \u001b[39m=\u001b[39m quantity_simplify(expr)\n\u001b[0;32m--> 725\u001b[0m short \u001b[39m=\u001b[39m shorter(powsimp(expr, combine\u001b[39m=\u001b[39;49m\u001b[39m'\u001b[39;49m\u001b[39mexp\u001b[39;49m\u001b[39m'\u001b[39;49m, deep\u001b[39m=\u001b[39;49m\u001b[39mTrue\u001b[39;49;00m), powsimp(expr), expr)\n\u001b[1;32m    726\u001b[0m short \u001b[39m=\u001b[39m shorter(short, cancel(short))\n\u001b[1;32m    727\u001b[0m short \u001b[39m=\u001b[39m shorter(short, factor_terms(short), expand_power_exp(expand_mul(short)))\n",
      "File \u001b[0;32m~/.local/lib/python3.12/site-packages/sympy/simplify/powsimp.py:142\u001b[0m, in \u001b[0;36mpowsimp\u001b[0;34m(expr, deep, combine, force, measure)\u001b[0m\n\u001b[1;32m    140\u001b[0m b, e \u001b[39m=\u001b[39m term\u001b[39m.\u001b[39mas_base_exp()\n\u001b[1;32m    141\u001b[0m \u001b[39mif\u001b[39;00m deep:\n\u001b[0;32m--> 142\u001b[0m     b, e \u001b[39m=\u001b[39m [recurse(i) \u001b[39mfor\u001b[39;00m i \u001b[39min\u001b[39;00m [b, e]]\n\u001b[1;32m    143\u001b[0m \u001b[39mif\u001b[39;00m b\u001b[39m.\u001b[39mis_Pow \u001b[39mor\u001b[39;00m \u001b[39misinstance\u001b[39m(b, exp):\n\u001b[1;32m    144\u001b[0m     \u001b[39m# don't let smthg like sqrt(x**a) split into x**a, 1/2\u001b[39;00m\n\u001b[1;32m    145\u001b[0m     \u001b[39m# or else it will be joined as x**(a/2) later\u001b[39;00m\n\u001b[1;32m    146\u001b[0m     b, e \u001b[39m=\u001b[39m b\u001b[39m*\u001b[39m\u001b[39m*\u001b[39me, S\u001b[39m.\u001b[39mOne\n",
      "File \u001b[0;32m~/.local/lib/python3.12/site-packages/sympy/simplify/powsimp.py:108\u001b[0m, in \u001b[0;36mpowsimp.<locals>.recurse\u001b[0;34m(arg, **kwargs)\u001b[0m\n\u001b[1;32m    106\u001b[0m _force \u001b[39m=\u001b[39m kwargs\u001b[39m.\u001b[39mget(\u001b[39m'\u001b[39m\u001b[39mforce\u001b[39m\u001b[39m'\u001b[39m, force)\n\u001b[1;32m    107\u001b[0m _measure \u001b[39m=\u001b[39m kwargs\u001b[39m.\u001b[39mget(\u001b[39m'\u001b[39m\u001b[39mmeasure\u001b[39m\u001b[39m'\u001b[39m, measure)\n\u001b[0;32m--> 108\u001b[0m \u001b[39mreturn\u001b[39;00m powsimp(arg, _deep, _combine, _force, _measure)\n",
      "File \u001b[0;32m~/.local/lib/python3.12/site-packages/sympy/simplify/powsimp.py:117\u001b[0m, in \u001b[0;36mpowsimp\u001b[0;34m(expr, deep, combine, force, measure)\u001b[0m\n\u001b[1;32m    114\u001b[0m     \u001b[39mreturn\u001b[39;00m expr\n\u001b[1;32m    116\u001b[0m \u001b[39mif\u001b[39;00m deep \u001b[39mor\u001b[39;00m expr\u001b[39m.\u001b[39mis_Add \u001b[39mor\u001b[39;00m expr\u001b[39m.\u001b[39mis_Mul \u001b[39mand\u001b[39;00m _y \u001b[39mnot\u001b[39;00m \u001b[39min\u001b[39;00m expr\u001b[39m.\u001b[39margs:\n\u001b[0;32m--> 117\u001b[0m     expr \u001b[39m=\u001b[39m expr\u001b[39m.\u001b[39mfunc(\u001b[39m*\u001b[39m[recurse(w) \u001b[39mfor\u001b[39;00m w \u001b[39min\u001b[39;00m expr\u001b[39m.\u001b[39margs])\n\u001b[1;32m    119\u001b[0m \u001b[39mif\u001b[39;00m expr\u001b[39m.\u001b[39mis_Pow:\n\u001b[1;32m    120\u001b[0m     \u001b[39mreturn\u001b[39;00m recurse(expr\u001b[39m*\u001b[39m_y, deep\u001b[39m=\u001b[39m\u001b[39mFalse\u001b[39;00m)\u001b[39m/\u001b[39m_y\n",
      "File \u001b[0;32m~/.local/lib/python3.12/site-packages/sympy/simplify/powsimp.py:108\u001b[0m, in \u001b[0;36mpowsimp.<locals>.recurse\u001b[0;34m(arg, **kwargs)\u001b[0m\n\u001b[1;32m    106\u001b[0m _force \u001b[39m=\u001b[39m kwargs\u001b[39m.\u001b[39mget(\u001b[39m'\u001b[39m\u001b[39mforce\u001b[39m\u001b[39m'\u001b[39m, force)\n\u001b[1;32m    107\u001b[0m _measure \u001b[39m=\u001b[39m kwargs\u001b[39m.\u001b[39mget(\u001b[39m'\u001b[39m\u001b[39mmeasure\u001b[39m\u001b[39m'\u001b[39m, measure)\n\u001b[0;32m--> 108\u001b[0m \u001b[39mreturn\u001b[39;00m powsimp(arg, _deep, _combine, _force, _measure)\n",
      "File \u001b[0;32m~/.local/lib/python3.12/site-packages/sympy/simplify/powsimp.py:117\u001b[0m, in \u001b[0;36mpowsimp\u001b[0;34m(expr, deep, combine, force, measure)\u001b[0m\n\u001b[1;32m    114\u001b[0m     \u001b[39mreturn\u001b[39;00m expr\n\u001b[1;32m    116\u001b[0m \u001b[39mif\u001b[39;00m deep \u001b[39mor\u001b[39;00m expr\u001b[39m.\u001b[39mis_Add \u001b[39mor\u001b[39;00m expr\u001b[39m.\u001b[39mis_Mul \u001b[39mand\u001b[39;00m _y \u001b[39mnot\u001b[39;00m \u001b[39min\u001b[39;00m expr\u001b[39m.\u001b[39margs:\n\u001b[0;32m--> 117\u001b[0m     expr \u001b[39m=\u001b[39m expr\u001b[39m.\u001b[39mfunc(\u001b[39m*\u001b[39m[recurse(w) \u001b[39mfor\u001b[39;00m w \u001b[39min\u001b[39;00m expr\u001b[39m.\u001b[39margs])\n\u001b[1;32m    119\u001b[0m \u001b[39mif\u001b[39;00m expr\u001b[39m.\u001b[39mis_Pow:\n\u001b[1;32m    120\u001b[0m     \u001b[39mreturn\u001b[39;00m recurse(expr\u001b[39m*\u001b[39m_y, deep\u001b[39m=\u001b[39m\u001b[39mFalse\u001b[39;00m)\u001b[39m/\u001b[39m_y\n",
      "    \u001b[0;31m[... skipping similar frames: powsimp.<locals>.recurse at line 108 (9 times), powsimp at line 117 (8 times)]\u001b[0m\n",
      "File \u001b[0;32m~/.local/lib/python3.12/site-packages/sympy/simplify/powsimp.py:142\u001b[0m, in \u001b[0;36mpowsimp\u001b[0;34m(expr, deep, combine, force, measure)\u001b[0m\n\u001b[1;32m    140\u001b[0m b, e \u001b[39m=\u001b[39m term\u001b[39m.\u001b[39mas_base_exp()\n\u001b[1;32m    141\u001b[0m \u001b[39mif\u001b[39;00m deep:\n\u001b[0;32m--> 142\u001b[0m     b, e \u001b[39m=\u001b[39m [recurse(i) \u001b[39mfor\u001b[39;00m i \u001b[39min\u001b[39;00m [b, e]]\n\u001b[1;32m    143\u001b[0m \u001b[39mif\u001b[39;00m b\u001b[39m.\u001b[39mis_Pow \u001b[39mor\u001b[39;00m \u001b[39misinstance\u001b[39m(b, exp):\n\u001b[1;32m    144\u001b[0m     \u001b[39m# don't let smthg like sqrt(x**a) split into x**a, 1/2\u001b[39;00m\n\u001b[1;32m    145\u001b[0m     \u001b[39m# or else it will be joined as x**(a/2) later\u001b[39;00m\n\u001b[1;32m    146\u001b[0m     b, e \u001b[39m=\u001b[39m b\u001b[39m*\u001b[39m\u001b[39m*\u001b[39me, S\u001b[39m.\u001b[39mOne\n",
      "    \u001b[0;31m[... skipping similar frames: powsimp.<locals>.recurse at line 108 (7 times), powsimp at line 117 (5 times), powsimp at line 142 (1 times)]\u001b[0m\n",
      "File \u001b[0;32m~/.local/lib/python3.12/site-packages/sympy/simplify/powsimp.py:142\u001b[0m, in \u001b[0;36mpowsimp\u001b[0;34m(expr, deep, combine, force, measure)\u001b[0m\n\u001b[1;32m    140\u001b[0m b, e \u001b[39m=\u001b[39m term\u001b[39m.\u001b[39mas_base_exp()\n\u001b[1;32m    141\u001b[0m \u001b[39mif\u001b[39;00m deep:\n\u001b[0;32m--> 142\u001b[0m     b, e \u001b[39m=\u001b[39m [recurse(i) \u001b[39mfor\u001b[39;00m i \u001b[39min\u001b[39;00m [b, e]]\n\u001b[1;32m    143\u001b[0m \u001b[39mif\u001b[39;00m b\u001b[39m.\u001b[39mis_Pow \u001b[39mor\u001b[39;00m \u001b[39misinstance\u001b[39m(b, exp):\n\u001b[1;32m    144\u001b[0m     \u001b[39m# don't let smthg like sqrt(x**a) split into x**a, 1/2\u001b[39;00m\n\u001b[1;32m    145\u001b[0m     \u001b[39m# or else it will be joined as x**(a/2) later\u001b[39;00m\n\u001b[1;32m    146\u001b[0m     b, e \u001b[39m=\u001b[39m b\u001b[39m*\u001b[39m\u001b[39m*\u001b[39me, S\u001b[39m.\u001b[39mOne\n",
      "    \u001b[0;31m[... skipping similar frames: powsimp.<locals>.recurse at line 108 (2 times), powsimp at line 117 (1 times)]\u001b[0m\n",
      "File \u001b[0;32m~/.local/lib/python3.12/site-packages/sympy/simplify/powsimp.py:117\u001b[0m, in \u001b[0;36mpowsimp\u001b[0;34m(expr, deep, combine, force, measure)\u001b[0m\n\u001b[1;32m    114\u001b[0m     \u001b[39mreturn\u001b[39;00m expr\n\u001b[1;32m    116\u001b[0m \u001b[39mif\u001b[39;00m deep \u001b[39mor\u001b[39;00m expr\u001b[39m.\u001b[39mis_Add \u001b[39mor\u001b[39;00m expr\u001b[39m.\u001b[39mis_Mul \u001b[39mand\u001b[39;00m _y \u001b[39mnot\u001b[39;00m \u001b[39min\u001b[39;00m expr\u001b[39m.\u001b[39margs:\n\u001b[0;32m--> 117\u001b[0m     expr \u001b[39m=\u001b[39m expr\u001b[39m.\u001b[39mfunc(\u001b[39m*\u001b[39m[recurse(w) \u001b[39mfor\u001b[39;00m w \u001b[39min\u001b[39;00m expr\u001b[39m.\u001b[39margs])\n\u001b[1;32m    119\u001b[0m \u001b[39mif\u001b[39;00m expr\u001b[39m.\u001b[39mis_Pow:\n\u001b[1;32m    120\u001b[0m     \u001b[39mreturn\u001b[39;00m recurse(expr\u001b[39m*\u001b[39m_y, deep\u001b[39m=\u001b[39m\u001b[39mFalse\u001b[39;00m)\u001b[39m/\u001b[39m_y\n",
      "File \u001b[0;32m~/.local/lib/python3.12/site-packages/sympy/simplify/powsimp.py:108\u001b[0m, in \u001b[0;36mpowsimp.<locals>.recurse\u001b[0;34m(arg, **kwargs)\u001b[0m\n\u001b[1;32m    106\u001b[0m _force \u001b[39m=\u001b[39m kwargs\u001b[39m.\u001b[39mget(\u001b[39m'\u001b[39m\u001b[39mforce\u001b[39m\u001b[39m'\u001b[39m, force)\n\u001b[1;32m    107\u001b[0m _measure \u001b[39m=\u001b[39m kwargs\u001b[39m.\u001b[39mget(\u001b[39m'\u001b[39m\u001b[39mmeasure\u001b[39m\u001b[39m'\u001b[39m, measure)\n\u001b[0;32m--> 108\u001b[0m \u001b[39mreturn\u001b[39;00m powsimp(arg, _deep, _combine, _force, _measure)\n",
      "File \u001b[0;32m~/.local/lib/python3.12/site-packages/sympy/simplify/powsimp.py:120\u001b[0m, in \u001b[0;36mpowsimp\u001b[0;34m(expr, deep, combine, force, measure)\u001b[0m\n\u001b[1;32m    117\u001b[0m     expr \u001b[39m=\u001b[39m expr\u001b[39m.\u001b[39mfunc(\u001b[39m*\u001b[39m[recurse(w) \u001b[39mfor\u001b[39;00m w \u001b[39min\u001b[39;00m expr\u001b[39m.\u001b[39margs])\n\u001b[1;32m    119\u001b[0m \u001b[39mif\u001b[39;00m expr\u001b[39m.\u001b[39mis_Pow:\n\u001b[0;32m--> 120\u001b[0m     \u001b[39mreturn\u001b[39;00m recurse(expr\u001b[39m*\u001b[39;49m_y, deep\u001b[39m=\u001b[39;49m\u001b[39mFalse\u001b[39;49;00m)\u001b[39m/\u001b[39m_y\n\u001b[1;32m    122\u001b[0m \u001b[39mif\u001b[39;00m \u001b[39mnot\u001b[39;00m expr\u001b[39m.\u001b[39mis_Mul:\n\u001b[1;32m    123\u001b[0m     \u001b[39mreturn\u001b[39;00m expr\n",
      "File \u001b[0;32m~/.local/lib/python3.12/site-packages/sympy/simplify/powsimp.py:108\u001b[0m, in \u001b[0;36mpowsimp.<locals>.recurse\u001b[0;34m(arg, **kwargs)\u001b[0m\n\u001b[1;32m    106\u001b[0m _force \u001b[39m=\u001b[39m kwargs\u001b[39m.\u001b[39mget(\u001b[39m'\u001b[39m\u001b[39mforce\u001b[39m\u001b[39m'\u001b[39m, force)\n\u001b[1;32m    107\u001b[0m _measure \u001b[39m=\u001b[39m kwargs\u001b[39m.\u001b[39mget(\u001b[39m'\u001b[39m\u001b[39mmeasure\u001b[39m\u001b[39m'\u001b[39m, measure)\n\u001b[0;32m--> 108\u001b[0m \u001b[39mreturn\u001b[39;00m powsimp(arg, _deep, _combine, _force, _measure)\n",
      "File \u001b[0;32m~/.local/lib/python3.12/site-packages/sympy/simplify/powsimp.py:138\u001b[0m, in \u001b[0;36mpowsimp\u001b[0;34m(expr, deep, combine, force, measure)\u001b[0m\n\u001b[1;32m    136\u001b[0m     \u001b[39mcontinue\u001b[39;00m\n\u001b[1;32m    137\u001b[0m \u001b[39mif\u001b[39;00m term\u001b[39m.\u001b[39mis_Pow:\n\u001b[0;32m--> 138\u001b[0m     term \u001b[39m=\u001b[39m _denest_pow(term)\n\u001b[1;32m    139\u001b[0m \u001b[39mif\u001b[39;00m term\u001b[39m.\u001b[39mis_commutative:\n\u001b[1;32m    140\u001b[0m     b, e \u001b[39m=\u001b[39m term\u001b[39m.\u001b[39mas_base_exp()\n",
      "File \u001b[0;32m~/.local/lib/python3.12/site-packages/sympy/simplify/powsimp.py:644\u001b[0m, in \u001b[0;36m_denest_pow\u001b[0;34m(eq)\u001b[0m\n\u001b[1;32m    639\u001b[0m     \u001b[39mreturn\u001b[39;00m Pow(exp(logs), Mul(\u001b[39m*\u001b[39mother))\n\u001b[1;32m    641\u001b[0m _, be \u001b[39m=\u001b[39m b\u001b[39m.\u001b[39mas_base_exp()\n\u001b[1;32m    642\u001b[0m \u001b[39mif\u001b[39;00m be \u001b[39mis\u001b[39;00m S\u001b[39m.\u001b[39mOne \u001b[39mand\u001b[39;00m \u001b[39mnot\u001b[39;00m (b\u001b[39m.\u001b[39mis_Mul \u001b[39mor\u001b[39;00m\n\u001b[1;32m    643\u001b[0m                         b\u001b[39m.\u001b[39mis_Rational \u001b[39mand\u001b[39;00m b\u001b[39m.\u001b[39mq \u001b[39m!=\u001b[39m \u001b[39m1\u001b[39m \u001b[39mor\u001b[39;00m\n\u001b[0;32m--> 644\u001b[0m                         b\u001b[39m.\u001b[39;49mis_positive):\n\u001b[1;32m    645\u001b[0m     \u001b[39mreturn\u001b[39;00m eq\n\u001b[1;32m    647\u001b[0m \u001b[39m# denest eq which is either pos**e or Pow**e or Mul**e or\u001b[39;00m\n\u001b[1;32m    648\u001b[0m \u001b[39m# Mul(b1**e1, b2**e2)\u001b[39;00m\n\u001b[1;32m    649\u001b[0m \n\u001b[1;32m    650\u001b[0m \u001b[39m# handle polar numbers specially\u001b[39;00m\n",
      "File \u001b[0;32m~/.local/lib/python3.12/site-packages/sympy/core/assumptions.py:497\u001b[0m, in \u001b[0;36mmake_property.<locals>.getit\u001b[0;34m(self)\u001b[0m\n\u001b[1;32m    494\u001b[0m \u001b[39mdef\u001b[39;00m \u001b[39mmake_property\u001b[39m(fact):\n\u001b[1;32m    495\u001b[0m \u001b[39m    \u001b[39m\u001b[39m\"\"\"Create the automagic property corresponding to a fact.\"\"\"\u001b[39;00m\n\u001b[0;32m--> 497\u001b[0m     \u001b[39mdef\u001b[39;00m \u001b[39mgetit\u001b[39m(\u001b[39mself\u001b[39m):\n\u001b[1;32m    498\u001b[0m         \u001b[39mtry\u001b[39;00m:\n\u001b[1;32m    499\u001b[0m             \u001b[39mreturn\u001b[39;00m \u001b[39mself\u001b[39m\u001b[39m.\u001b[39m_assumptions[fact]\n",
      "\u001b[0;31mKeyboardInterrupt\u001b[0m: "
     ]
    }
   ],
   "source": [
    "from DiffPy import DifferentialForm, d, set_max_degree\n",
    "from sympy import symbols, sin, Function, I, Array, permutedims, Eq, solve, cos, simplify, sqrt\n",
    "\n",
    "set_max_degree(4)\n",
    "\n",
    "coords = t,r,theta,phi = symbols(r\"t r \\theta \\phi\")\n",
    "basis = dt,dr,dtheta,dphi = d(t), d(r), d(theta), d(phi)\n",
    "\n",
    "f = Function(\"f\")(r)\n",
    "\n",
    "f = sqrt(1-1/r)\n",
    "\n",
    "g = 1/f\n",
    "# g = Function(\"g\")(r)\n",
    "\n",
    "e0 = f*dt\n",
    "e1 = g*dr\n",
    "e2 = r*dtheta\n",
    "e3 = r*sin(theta)*dphi\n",
    "\n",
    "display(\"Tetrads\")\n",
    "display(e0)\n",
    "display(e1)\n",
    "display(e2)\n",
    "display(e3)\n",
    "print(\"\")\n",
    "\n",
    "S1 = I*e0*e1 - e2*e3\n",
    "S2 = I*e0*e2 - e3*e1\n",
    "S3 = I*e0*e3 - e1*e2\n",
    "\n",
    "AS1 = I*e0*e1 + e2*e3\n",
    "AS2 = I*e0*e2 + e3*e1\n",
    "AS3 = I*e0*e3 + e1*e2\n",
    "\n",
    "display(\"Self-Dual 2-forms\")\n",
    "display(S1)\n",
    "display(S2)\n",
    "display(S3)\n",
    "\n",
    "A_symbols = permutedims(Array([symbols(f\"A^{{1:4}}_{{{str(c)}}}\") for c in coords]),(1,0))\n",
    "\n",
    "A1 = sum([A_symbols[0,i]*basis[i] for i in range(4)])\n",
    "A2 = sum([A_symbols[1,i]*basis[i] for i in range(4)])\n",
    "A3 = sum([A_symbols[2,i]*basis[i] for i in range(4)])\n",
    "\n",
    "# A1 = I*f.diff(r)/g*dt + cos(theta)*dphi \n",
    "# A2 = -1/g * sin(theta) * dphi\n",
    "# A3 = 1/g * dtheta\n",
    "\n",
    "dAS1 = S1.d + A2*S3 - A3*S2\n",
    "dAS2 = S2.d + A3*S1 - A1*S3\n",
    "dAS3 = S3.d + A1*S2 - A2*S1\n",
    "\n",
    "dA_equations = [Eq(fa,0) for fa in dAS1.factors] + [Eq(fa,0) for fa in dAS2.factors] + [Eq(fa,0) for fa in dAS3.factors]\n",
    "\n",
    "A_sol = solve(dA_equations)\n",
    "\n",
    "A_solution = A_symbols.subs(A_sol[-1])\n",
    "\n",
    "A1 = sum([A_solution[0,i]*basis[i] for i in range(4)])\n",
    "A2 = sum([A_solution[1,i]*basis[i] for i in range(4)])\n",
    "A3 = sum([A_solution[2,i]*basis[i] for i in range(4)])\n",
    "\n",
    "print(\"\")\n",
    "print(\"Self-Dual Connection\")\n",
    "display(A1)\n",
    "display(A2)\n",
    "display(A3)\n",
    "\n",
    "F1 = A1.d + A2*A3\n",
    "F2 = A2.d + A3*A1\n",
    "F3 = A3.d + A1*A2\n",
    "\n",
    "F  = [F1,F2,F3]\n",
    "S  = [S1,S2,S3]\n",
    "AS = [AS1,AS2,AS3]\n",
    "\n",
    "psi_symbols = Array([[symbols(rf\"\\psi^{{{i+1}{j+1}}}\") for j in range(3)] for i in range(3)])\n",
    "R_symbols = Array([[symbols(rf\"R^{{{i+1}{j+1}}}\") for j in range(3)] for i in range(3)])\n",
    "\n",
    "psi_R_symbols = []\n",
    "for i in range(3):\n",
    "    for j in range(3):\n",
    "        psi_R_symbols.append(psi_symbols[i,j])\n",
    "        psi_R_symbols.append(R_symbols[i,j])\n",
    "\n",
    "F_PS_RAS = [ F[i] - sum([ psi_symbols[i,j]*S[j] + R_symbols[i,j]*AS[j] for j in range(3)]) for i in range(3)]\n",
    "\n",
    "psi_R_equations = []\n",
    "for ps in F_PS_RAS:\n",
    "    for  fa in ps.factors:\n",
    "        psi_R_equations.append(Eq(fa,0))\n",
    "    \n",
    "psi_R_sols = solve(psi_R_equations,psi_R_symbols)\n",
    "\n",
    "R_solution   = R_symbols.subs(psi_R_sols)\n",
    "psi_solution = psi_symbols.subs(psi_R_sols)\n",
    "\n",
    "print(\"\")\n",
    "print(\"Self-Dual Weyl\")\n",
    "display(psi_solution)\n",
    "print(\"Self-Dual Ricci\")\n",
    "display(R_solution)"
   ]
  },
  {
   "cell_type": "code",
   "execution_count": null,
   "metadata": {},
   "outputs": [],
   "source": []
  },
  {
   "cell_type": "code",
   "execution_count": null,
   "metadata": {},
   "outputs": [],
   "source": []
  }
 ],
 "metadata": {
  "kernelspec": {
   "display_name": "Python 3",
   "language": "python",
   "name": "python3"
  },
  "language_info": {
   "codemirror_mode": {
    "name": "ipython",
    "version": 3
   },
   "file_extension": ".py",
   "mimetype": "text/x-python",
   "name": "python",
   "nbconvert_exporter": "python",
   "pygments_lexer": "ipython3",
   "version": "3.12.0"
  }
 },
 "nbformat": 4,
 "nbformat_minor": 2
}
