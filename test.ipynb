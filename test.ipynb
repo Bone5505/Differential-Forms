{
 "cells": [
  {
   "cell_type": "code",
   "execution_count": null,
   "metadata": {},
   "outputs": [],
   "source": [
    "from DiffPyTest import DifferentialForm, bubble_tester\n",
    "from sympy import *\n",
    "\n",
    "omega, alpha, beta, gamma = symbols(r\"\\omega \\alpha \\beta \\gamma\")\n",
    "w = DifferentialForm(omega,1)\n",
    "a = DifferentialForm(alpha,2)\n",
    "b = DifferentialForm(beta, 3)\n",
    "g = DifferentialForm(gamma,4)\n",
    "\n",
    "forward = a*w*b*g\n",
    "bakward = g*a*w*b\n",
    "\n",
    "display(forward)\n",
    "display(bakward)\n",
    "display(forward+bakward)"
   ]
  },
  {
   "cell_type": "code",
   "execution_count": 30,
   "metadata": {},
   "outputs": [
    {
     "data": {
      "text/plain": [
       "\"e's\""
      ]
     },
     "metadata": {},
     "output_type": "display_data"
    },
    {
     "data": {
      "text/latex": [
       "$(f{\\left(r \\right)})dt$"
      ],
      "text/plain": [
       "<DiffPy.DifferentialFormMul at 0x7f3cc5fcec30>"
      ]
     },
     "metadata": {},
     "output_type": "display_data"
    },
    {
     "data": {
      "text/latex": [
       "$(\\frac{1}{f{\\left(r \\right)}})dr$"
      ],
      "text/plain": [
       "<DiffPy.DifferentialFormMul at 0x7f3cc4087f50>"
      ]
     },
     "metadata": {},
     "output_type": "display_data"
    },
    {
     "data": {
      "text/latex": [
       "$(r)d\\theta$"
      ],
      "text/plain": [
       "<DiffPy.DifferentialFormMul at 0x7f3cc55cecf0>"
      ]
     },
     "metadata": {},
     "output_type": "display_data"
    },
    {
     "data": {
      "text/latex": [
       "$(r \\sin{\\left(\\theta \\right)})d\\phi$"
      ],
      "text/plain": [
       "<DiffPy.DifferentialFormMul at 0x7f3cc565a270>"
      ]
     },
     "metadata": {},
     "output_type": "display_data"
    },
    {
     "name": "stdout",
     "output_type": "stream",
     "text": [
      "\n"
     ]
    },
    {
     "data": {
      "text/plain": [
       "\"Sigma's\""
      ]
     },
     "metadata": {},
     "output_type": "display_data"
    },
    {
     "data": {
      "text/latex": [
       "$(i)dt \\wedge dr+(r^{2} \\sin{\\left(\\theta \\right)})d\\theta \\wedge d\\phi$"
      ],
      "text/plain": [
       "<DiffPy.DifferentialFormMul at 0x7f3cc4169a60>"
      ]
     },
     "metadata": {},
     "output_type": "display_data"
    },
    {
     "data": {
      "text/latex": [
       "$(i r f{\\left(r \\right)})dt \\wedge d\\theta+(- \\frac{r \\sin{\\left(\\theta \\right)}}{f{\\left(r \\right)}})dr \\wedge d\\phi$"
      ],
      "text/plain": [
       "<DiffPy.DifferentialFormMul at 0x7f3cc4169850>"
      ]
     },
     "metadata": {},
     "output_type": "display_data"
    },
    {
     "data": {
      "text/latex": [
       "$(i r f{\\left(r \\right)} \\sin{\\left(\\theta \\right)})dt \\wedge d\\phi+(\\frac{r}{f{\\left(r \\right)}})dr \\wedge d\\theta$"
      ],
      "text/plain": [
       "<DiffPy.DifferentialFormMul at 0x7f3cc416bc80>"
      ]
     },
     "metadata": {},
     "output_type": "display_data"
    }
   ],
   "source": [
    "from DiffPy import DifferentialForm, d, set_max_degree\n",
    "from sympy import symbols, sin, Function, I, Array, permutedims, Eq, solve\n",
    "\n",
    "set_max_degree(4)\n",
    "\n",
    "coords = t,r,theta,phi = symbols(r\"t r \\theta \\phi\")\n",
    "basis = dt,dr,dtheta,dphi = d(t), d(r), d(theta), d(phi)\n",
    "\n",
    "f = Function(\"f\")(r)\n",
    "\n",
    "e0 = f*dt\n",
    "e1 = 1/f*dr\n",
    "e2 = r*dtheta\n",
    "e3 = r*sin(theta)*dphi\n",
    "\n",
    "display(\"e's\")\n",
    "display(e0)\n",
    "display(e1)\n",
    "display(e2)\n",
    "display(e3)\n",
    "print(\"\")\n",
    "\n",
    "\n",
    "S1 = I*e0*e1 + e2*e3\n",
    "S2 = I*e0*e2 + e3*e1\n",
    "S3 = I*e0*e3 + e1*e2\n",
    "\n",
    "display(\"Sigma's\")\n",
    "display(S1)\n",
    "display(S2)\n",
    "display(S3)\n",
    "\n",
    "A_symbols = permutedims(Array([symbols(f\"A^{{1:4}}_{{{str(c)}}}\") for c in coords]),(1,0))\n",
    "\n",
    "A1 = sum([A_symbols[0,i]*basis[i] for i in range(4)])\n",
    "A2 = sum([A_symbols[1,i]*basis[i] for i in range(4)])\n",
    "A3 = sum([A_symbols[2,i]*basis[i] for i in range(4)])\n",
    "\n",
    "dAS1 = S1.d + A2*S3 - A3*S2\n",
    "dAS2 = S2.d + A3*S1 - A1*S3\n",
    "dAS3 = S3.d + A1*S2 - A2*S1\n",
    "\n",
    "dA_equations = [Eq(f,0) for f in dAS1.factors] + [Eq(f,0) for f in dAS2.factors] + [Eq(f,0) for f in dAS3.factors]\n",
    "\n",
    "A_sol = solve(dA_equations)"
   ]
  },
  {
   "cell_type": "code",
   "execution_count": 40,
   "metadata": {},
   "outputs": [
    {
     "data": {
      "text/latex": [
       "$\\displaystyle \\left[\\begin{matrix}\\frac{i \\left(A^{3}_{\\theta} - r \\frac{d}{d r} f{\\left(r \\right)} - f{\\left(r \\right)}\\right) f{\\left(r \\right)}}{r} & A^{1}_{r} & \\frac{i A^{3}_{t} r}{f{\\left(r \\right)}} & 1\\\\- i A^{3}_{r} f^{2}{\\left(r \\right)} & \\frac{i A^{3}_{t}}{f^{2}{\\left(r \\right)}} & - A^{1}_{r} r f{\\left(r \\right)} & 0\\\\A^{3}_{t} & A^{3}_{r} & A^{3}_{\\theta} & 0\\end{matrix}\\right]$"
      ],
      "text/plain": [
       "[[I*(A^{3}_{\\theta} - r*Derivative(f(r), r) - f(r))*f(r)/r, A^{1}_{r}, I*A^{3}_{t}*r/f(r), 1], [-I*A^{3}_{r}*f(r)**2, I*A^{3}_{t}/f(r)**2, -A^{1}_{r}*r*f(r), 0], [A^{3}_{t}, A^{3}_{r}, A^{3}_{\\theta}, 0]]"
      ]
     },
     "metadata": {},
     "output_type": "display_data"
    },
    {
     "data": {
      "text/latex": [
       "$(- i r \\frac{d}{d r} f{\\left(r \\right)} - i f{\\left(r \\right)})dt \\wedge dr \\wedge d\\theta+(\\frac{r \\cos{\\left(\\theta \\right)}}{f{\\left(r \\right)}})dr \\wedge d\\theta \\wedge d\\phi$"
      ],
      "text/plain": [
       "<DiffPy.DifferentialFormMul at 0x7f3cc467f9b0>"
      ]
     },
     "metadata": {},
     "output_type": "display_data"
    }
   ],
   "source": [
    "# display(A_sol)\n",
    "display(A_symbols.subs(A_sol[5]))\n",
    "\n",
    "display(S2.d)\n",
    "\n",
    "# display(A2*S3-A3*S2)"
   ]
  },
  {
   "cell_type": "code",
   "execution_count": null,
   "metadata": {},
   "outputs": [],
   "source": []
  }
 ],
 "metadata": {
  "kernelspec": {
   "display_name": "Python 3",
   "language": "python",
   "name": "python3"
  },
  "language_info": {
   "codemirror_mode": {
    "name": "ipython",
    "version": 3
   },
   "file_extension": ".py",
   "mimetype": "text/x-python",
   "name": "python",
   "nbconvert_exporter": "python",
   "pygments_lexer": "ipython3",
   "version": "3.12.0"
  }
 },
 "nbformat": 4,
 "nbformat_minor": 2
}
