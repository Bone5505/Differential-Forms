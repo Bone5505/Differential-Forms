{
 "cells": [
  {
   "cell_type": "code",
   "execution_count": 1,
   "metadata": {},
   "outputs": [
    {
     "ename": "IndentationError",
     "evalue": "expected an indented block after 'if' statement on line 163 (DiffPyTest.py, line 167)",
     "output_type": "error",
     "traceback": [
      "Traceback \u001b[0;36m(most recent call last)\u001b[0m:\n",
      "\u001b[0m  File \u001b[1;32m~/.local/lib/python3.12/site-packages/IPython/core/interactiveshell.py:3550\u001b[0m in \u001b[1;35mrun_code\u001b[0m\n    exec(code_obj, self.user_global_ns, self.user_ns)\u001b[0m\n",
      "\u001b[0;36m  Cell \u001b[0;32mIn[1], line 1\u001b[0;36m\n\u001b[0;31m    from DiffPyTest import DifferentialForm, bubble_tester\u001b[0;36m\n",
      "\u001b[0;36m  File \u001b[0;32m~/Programming/Python/Differential Forms/DiffPyTest.py:167\u001b[0;36m\u001b[0m\n\u001b[0;31m    def __str__(self):\u001b[0m\n\u001b[0m    ^\u001b[0m\n\u001b[0;31mIndentationError\u001b[0m\u001b[0;31m:\u001b[0m expected an indented block after 'if' statement on line 163\n"
     ]
    }
   ],
   "source": [
    "from DiffPyTest import DifferentialForm, bubble_tester\n",
    "from sympy import *\n",
    "\n",
    "omega, alpha, beta, gamma = symbols(r\"\\omega \\alpha \\beta \\gamma\")\n",
    "w = DifferentialForm(omega,1)\n",
    "a = DifferentialForm(alpha,2)\n",
    "b = DifferentialForm(beta, 3)\n",
    "g = DifferentialForm(gamma,4)\n",
    "\n",
    "forward = a*w*b*g\n",
    "bakward = g*a*w*b\n",
    "\n",
    "display(forward)\n",
    "display(bakward)\n",
    "display(forward+bakward)"
   ]
  },
  {
   "cell_type": "code",
   "execution_count": 2,
   "metadata": {},
   "outputs": [
    {
     "name": "stdout",
     "output_type": "stream",
     "text": [
      "[0, 2]\n"
     ]
    },
    {
     "ename": "IndexError",
     "evalue": "list index out of range",
     "output_type": "error",
     "traceback": [
      "\u001b[0;31m---------------------------------------------------------------------------\u001b[0m",
      "\u001b[0;31mIndexError\u001b[0m                                Traceback (most recent call last)",
      "\u001b[1;32m/home/adam/Programming/Python/Differential Forms/test.ipynb Cell 2\u001b[0m line \u001b[0;36m1\n\u001b[1;32m      <a href='vscode-notebook-cell:/home/adam/Programming/Python/Differential%20Forms/test.ipynb#W1sZmlsZQ%3D%3D?line=8'>9</a>\u001b[0m a \u001b[39m=\u001b[39m DifferentialForm(alpha,\u001b[39m0\u001b[39m)\n\u001b[1;32m     <a href='vscode-notebook-cell:/home/adam/Programming/Python/Differential%20Forms/test.ipynb#W1sZmlsZQ%3D%3D?line=10'>11</a>\u001b[0m wf \u001b[39m=\u001b[39m  w\u001b[39m*\u001b[39ma\n\u001b[0;32m---> <a href='vscode-notebook-cell:/home/adam/Programming/Python/Differential%20Forms/test.ipynb#W1sZmlsZQ%3D%3D?line=12'>13</a>\u001b[0m wf2 \u001b[39m=\u001b[39m wf\u001b[39m*\u001b[39;49mwf\n\u001b[1;32m     <a href='vscode-notebook-cell:/home/adam/Programming/Python/Differential%20Forms/test.ipynb#W1sZmlsZQ%3D%3D?line=14'>15</a>\u001b[0m display(wf)\n\u001b[1;32m     <a href='vscode-notebook-cell:/home/adam/Programming/Python/Differential%20Forms/test.ipynb#W1sZmlsZQ%3D%3D?line=15'>16</a>\u001b[0m display(wf2)\n",
      "File \u001b[0;32m~/Programming/Python/Differential Forms/DiffPy.py:164\u001b[0m, in \u001b[0;36mDifferentialFormMul.__mul__\u001b[0;34m(self, other)\u001b[0m\n\u001b[1;32m    161\u001b[0m         ret\u001b[39m.\u001b[39mforms_list\u001b[39m.\u001b[39mappend(\u001b[39mself\u001b[39m\u001b[39m.\u001b[39mforms_list[i]\u001b[39m+\u001b[39mother\u001b[39m.\u001b[39mforms_list[j])\n\u001b[1;32m    162\u001b[0m         ret\u001b[39m.\u001b[39mfactors\u001b[39m.\u001b[39mappend(\u001b[39mself\u001b[39m\u001b[39m.\u001b[39mfactors[i]\u001b[39m*\u001b[39mother\u001b[39m.\u001b[39mfactors[j])\n\u001b[0;32m--> 164\u001b[0m ret\u001b[39m.\u001b[39;49m__remove_squares()\n\u001b[1;32m    165\u001b[0m ret\u001b[39m.\u001b[39m__remove_above_top()\n\u001b[1;32m    166\u001b[0m ret\u001b[39m.\u001b[39m__sort_form_sums()\n",
      "File \u001b[0;32m~/Programming/Python/Differential Forms/DiffPy.py:188\u001b[0m, in \u001b[0;36mDifferentialFormMul.__remove_squares\u001b[0;34m(self)\u001b[0m\n\u001b[1;32m    186\u001b[0m deled \u001b[39m=\u001b[39m \u001b[39mFalse\u001b[39;00m\n\u001b[1;32m    187\u001b[0m \u001b[39mfor\u001b[39;00m j \u001b[39min\u001b[39;00m \u001b[39mrange\u001b[39m(\u001b[39mlen\u001b[39m(\u001b[39mself\u001b[39m\u001b[39m.\u001b[39mforms_list[i])):\n\u001b[0;32m--> 188\u001b[0m     \u001b[39mif\u001b[39;00m \u001b[39mself\u001b[39;49m\u001b[39m.\u001b[39;49mforms_list[i][j]\u001b[39m.\u001b[39mdegree \u001b[39m%\u001b[39m\u001b[39m2\u001b[39m \u001b[39m==\u001b[39m \u001b[39m1\u001b[39m:\n\u001b[1;32m    189\u001b[0m         \u001b[39mprint\u001b[39m([k \u001b[39mfor\u001b[39;00m k,e \u001b[39min\u001b[39;00m \u001b[39menumerate\u001b[39m(\u001b[39mself\u001b[39m\u001b[39m.\u001b[39mforms_list[i]) \u001b[39mif\u001b[39;00m e \u001b[39m==\u001b[39m \u001b[39mself\u001b[39m\u001b[39m.\u001b[39mforms_list[i][j]])\n\u001b[1;32m    190\u001b[0m         \u001b[39mif\u001b[39;00m \u001b[39mlen\u001b[39m([k \u001b[39mfor\u001b[39;00m k,e \u001b[39min\u001b[39;00m \u001b[39menumerate\u001b[39m(\u001b[39mself\u001b[39m\u001b[39m.\u001b[39mforms_list[i]) \u001b[39mif\u001b[39;00m e \u001b[39m==\u001b[39m \u001b[39mself\u001b[39m\u001b[39m.\u001b[39mforms_list[i][j]]) \u001b[39m>\u001b[39m \u001b[39m1\u001b[39m:\n",
      "\u001b[0;31mIndexError\u001b[0m: list index out of range"
     ]
    }
   ],
   "source": [
    "from DiffPy import DifferentialForm\n",
    "from sympy import symbols, Integer, AtomicExpr, Expr, Rational, latex, Number, sin, Function\n",
    "\n",
    "x = symbols(\"x\")\n",
    "\n",
    "f = Function(\"f\")(x)\n",
    "omega, alpha = symbols(r\"\\omega \\alpha\")\n",
    "w = DifferentialForm(omega,1)\n",
    "a = DifferentialForm(alpha,0)\n",
    "\n",
    "wf =  w*a\n",
    "\n",
    "wf2 = wf*wf\n",
    "\n",
    "display(wf)\n",
    "display(wf2)"
   ]
  },
  {
   "cell_type": "code",
   "execution_count": null,
   "metadata": {},
   "outputs": [],
   "source": []
  },
  {
   "cell_type": "code",
   "execution_count": null,
   "metadata": {},
   "outputs": [],
   "source": []
  }
 ],
 "metadata": {
  "kernelspec": {
   "display_name": "Python 3",
   "language": "python",
   "name": "python3"
  },
  "language_info": {
   "codemirror_mode": {
    "name": "ipython",
    "version": 3
   },
   "file_extension": ".py",
   "mimetype": "text/x-python",
   "name": "python",
   "nbconvert_exporter": "python",
   "pygments_lexer": "ipython3",
   "version": "3.12.0"
  }
 },
 "nbformat": 4,
 "nbformat_minor": 2
}
