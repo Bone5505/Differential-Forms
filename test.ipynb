{
 "cells": [
  {
   "cell_type": "code",
   "execution_count": 1,
   "metadata": {},
   "outputs": [
    {
     "data": {
      "text/latex": [
       "$(1)\\alpha \\wedge \\omega \\wedge \\beta \\wedge \\gamma$"
      ],
      "text/plain": [
       "<DiffPy.DifferentialForm at 0x7fa0b25b5ca0>"
      ]
     },
     "metadata": {},
     "output_type": "display_data"
    },
    {
     "data": {
      "text/latex": [
       "$(1)\\gamma \\wedge \\alpha \\wedge \\omega \\wedge \\beta$"
      ],
      "text/plain": [
       "<DiffPy.DifferentialForm at 0x7fa0b2215850>"
      ]
     },
     "metadata": {},
     "output_type": "display_data"
    },
    {
     "data": {
      "text/latex": [
       "$(0)\\alpha \\wedge \\beta \\wedge \\gamma \\wedge \\omega$"
      ],
      "text/plain": [
       "<DiffPy.DifferentialForm at 0x7fa0b2af00e0>"
      ]
     },
     "metadata": {},
     "output_type": "display_data"
    }
   ],
   "source": [
    "from DiffPyTest import DifferentialForm, bubble_tester\n",
    "from sympy import *\n",
    "\n",
    "omega, alpha, beta, gamma = symbols(r\"\\omega \\alpha \\beta \\gamma\")\n",
    "w = DifferentialForm(omega,1)\n",
    "a = DifferentialForm(alpha,2)\n",
    "b = DifferentialForm(beta, 3)\n",
    "g = DifferentialForm(gamma,4)\n",
    "\n",
    "forward = a*w*b*g\n",
    "bakward = g*a*w*b\n",
    "\n",
    "display(forward)\n",
    "display(bakward)\n",
    "display(forward+bakward)"
   ]
  },
  {
   "cell_type": "code",
   "execution_count": 11,
   "metadata": {},
   "outputs": [
    {
     "data": {
      "text/plain": [
       "[0]"
      ]
     },
     "execution_count": 11,
     "metadata": {},
     "output_type": "execute_result"
    }
   ],
   "source": [
    "from DiffPy import DifferentialForm\n",
    "from sympy import symbols\n",
    "\n",
    "omega = symbols(r\"\\omega\")\n",
    "w = DifferentialForm(omega,1)"
   ]
  },
  {
   "cell_type": "code",
   "execution_count": null,
   "metadata": {},
   "outputs": [],
   "source": []
  }
 ],
 "metadata": {
  "kernelspec": {
   "display_name": "Python 3",
   "language": "python",
   "name": "python3"
  },
  "language_info": {
   "codemirror_mode": {
    "name": "ipython",
    "version": 3
   },
   "file_extension": ".py",
   "mimetype": "text/x-python",
   "name": "python",
   "nbconvert_exporter": "python",
   "pygments_lexer": "ipython3",
   "version": "3.12.0"
  }
 },
 "nbformat": 4,
 "nbformat_minor": 2
}
