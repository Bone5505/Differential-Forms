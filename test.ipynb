{
 "cells": [
  {
   "cell_type": "code",
   "execution_count": 1,
   "metadata": {},
   "outputs": [
    {
     "ename": "IndentationError",
     "evalue": "expected an indented block after 'if' statement on line 163 (DiffPyTest.py, line 167)",
     "output_type": "error",
     "traceback": [
      "Traceback \u001b[0;36m(most recent call last)\u001b[0m:\n",
      "\u001b[0m  File \u001b[1;32m~/.local/lib/python3.12/site-packages/IPython/core/interactiveshell.py:3550\u001b[0m in \u001b[1;35mrun_code\u001b[0m\n    exec(code_obj, self.user_global_ns, self.user_ns)\u001b[0m\n",
      "\u001b[0;36m  Cell \u001b[0;32mIn[1], line 1\u001b[0;36m\n\u001b[0;31m    from DiffPyTest import DifferentialForm, bubble_tester\u001b[0;36m\n",
      "\u001b[0;36m  File \u001b[0;32m~/Programming/Python/Differential Forms/DiffPyTest.py:167\u001b[0;36m\u001b[0m\n\u001b[0;31m    def __str__(self):\u001b[0m\n\u001b[0m    ^\u001b[0m\n\u001b[0;31mIndentationError\u001b[0m\u001b[0;31m:\u001b[0m expected an indented block after 'if' statement on line 163\n"
     ]
    }
   ],
   "source": [
    "from DiffPyTest import DifferentialForm, bubble_tester\n",
    "from sympy import *\n",
    "\n",
    "omega, alpha, beta, gamma = symbols(r\"\\omega \\alpha \\beta \\gamma\")\n",
    "w = DifferentialForm(omega,1)\n",
    "a = DifferentialForm(alpha,2)\n",
    "b = DifferentialForm(beta, 3)\n",
    "g = DifferentialForm(gamma,4)\n",
    "\n",
    "forward = a*w*b*g\n",
    "bakward = g*a*w*b\n",
    "\n",
    "display(forward)\n",
    "display(bakward)\n",
    "display(forward+bakward)"
   ]
  },
  {
   "cell_type": "code",
   "execution_count": 1,
   "metadata": {},
   "outputs": [
    {
     "data": {
      "text/latex": [
       "$(1)\\omega+(\\frac{d}{d x} f{\\left(x \\right)} + 1)1$"
      ],
      "text/plain": [
       "<DiffPy.DifferentialFormMul at 0x7fc970129340>"
      ]
     },
     "metadata": {},
     "output_type": "display_data"
    },
    {
     "data": {
      "text/plain": [
       "False"
      ]
     },
     "metadata": {},
     "output_type": "display_data"
    }
   ],
   "source": [
    "from DiffPy import DifferentialForm\n",
    "from sympy import symbols, Integer, AtomicExpr, Expr, Rational, latex, Number, sin, Function\n",
    "\n",
    "x = symbols(\"x\")\n",
    "\n",
    "f = Function(\"f\")(x)\n",
    "omega, alpha = symbols(r\"\\omega \\alpha\")\n",
    "w = DifferentialForm(omega,1)\n",
    "a = DifferentialForm(alpha,3)\n",
    "\n",
    "wf = f.diff(x) + 1 + w\n",
    "\n",
    "display(wf)\n",
    "\n",
    "display(isinstance(wf,AtomicExpr))"
   ]
  },
  {
   "cell_type": "code",
   "execution_count": null,
   "metadata": {},
   "outputs": [],
   "source": []
  },
  {
   "cell_type": "code",
   "execution_count": null,
   "metadata": {},
   "outputs": [],
   "source": []
  }
 ],
 "metadata": {
  "kernelspec": {
   "display_name": "Python 3",
   "language": "python",
   "name": "python3"
  },
  "language_info": {
   "codemirror_mode": {
    "name": "ipython",
    "version": 3
   },
   "file_extension": ".py",
   "mimetype": "text/x-python",
   "name": "python",
   "nbconvert_exporter": "python",
   "pygments_lexer": "ipython3",
   "version": "3.12.0"
  }
 },
 "nbformat": 4,
 "nbformat_minor": 2
}
